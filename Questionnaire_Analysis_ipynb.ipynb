{
  "nbformat": 4,
  "nbformat_minor": 0,
  "metadata": {
    "colab": {
      "provenance": [],
      "collapsed_sections": [
        "fsGwVEA5VTrG",
        "5kH4Y8hrU7pO"
      ]
    },
    "kernelspec": {
      "name": "python3",
      "display_name": "Python 3"
    },
    "language_info": {
      "name": "python"
    }
  },
  "cells": [
    {
      "cell_type": "markdown",
      "source": [
        "# DATA IMPORT"
      ],
      "metadata": {
        "id": "fsGwVEA5VTrG"
      }
    },
    {
      "cell_type": "code",
      "execution_count": null,
      "metadata": {
        "id": "QkqpORXwVCiP"
      },
      "outputs": [],
      "source": [
        "import numpy as np\n",
        "import pandas as pd\n",
        "import seaborn as sns\n",
        "import matplotlib.pyplot as plt\n",
        "import plotly.express as px"
      ]
    },
    {
      "cell_type": "code",
      "source": [
        "from google.colab import drive\n",
        "drive.mount('/content/drive')"
      ],
      "metadata": {
        "colab": {
          "base_uri": "https://localhost:8080/"
        },
        "id": "zw2Vh9Gfp5gz",
        "outputId": "025b8c6f-257e-439a-9e3b-4ae85ec6fc34"
      },
      "execution_count": null,
      "outputs": [
        {
          "output_type": "stream",
          "name": "stdout",
          "text": [
            "Mounted at /content/drive\n"
          ]
        }
      ]
    },
    {
      "cell_type": "code",
      "source": [
        "df = pd.read_csv(r\"/content/drive/MyDrive/Tesi/SDG Form.csv\")"
      ],
      "metadata": {
        "id": "ARlBiM40VXFr"
      },
      "execution_count": null,
      "outputs": []
    },
    {
      "cell_type": "code",
      "source": [
        "df.tail()"
      ],
      "metadata": {
        "id": "QWn-0pCsWVMq",
        "colab": {
          "base_uri": "https://localhost:8080/",
          "height": 845
        },
        "outputId": "d969cb7d-04d1-4b17-b1a8-a96fc38c8360"
      },
      "execution_count": null,
      "outputs": [
        {
          "output_type": "execute_result",
          "data": {
            "text/plain": [
              "    1.     Sei a conoscenza dell’esistenza dei Sustainable Developement Goals (obbiettivi di sviluppo sostenibile) delle Nazioni Unite?  \\\n",
              "135                                                 Sì                                                                                    \n",
              "136                                                 Sì                                                                                    \n",
              "137                                                 No                                                                                    \n",
              "138                                                 Sì                                                                                    \n",
              "139                                                 Sì                                                                                    \n",
              "\n",
              "     2.     Quanto ritieni importante la questione sostenibilità sociale, ambientale ed economica? Indicalo nella scala da 1 a 10   \\\n",
              "135                                               10.0                                                                               \n",
              "136                                               10.0                                                                               \n",
              "137                                                8.0                                                                               \n",
              "138                                               10.0                                                                               \n",
              "139                                               10.0                                                                               \n",
              "\n",
              "    3.     Credi che la responsabilità di uno sviluppo sostenibile ricada più su:  \\\n",
              "135                                          Cittadino                              \n",
              "136                           Nessuna delle precedenti                              \n",
              "137                                          Cittadino                              \n",
              "138                                          Cittadino                              \n",
              "139                                            Aziende                              \n",
              "\n",
              "    4.     Indica quanto sei d’accordo con la seguente affermazione: “Realtà sostenibili ed incentrate sull’economia circolare sono essenziali per il raggiungimento di una realtà sostenibile”  \\\n",
              "135                                          D’accordo                                                                                                                                            \n",
              "136                                    Molto d’accordo                                                                                                                                            \n",
              "137                                          D’accordo                                                                                                                                            \n",
              "138                                    Molto d’accordo                                                                                                                                            \n",
              "139                                    Molto d’accordo                                                                                                                                            \n",
              "\n",
              "    5.     Vorresti essere più coinvolto nelle decisioni statali riguardanti normative sulla sostenibilità?  \\\n",
              "135                                                 Sì                                                        \n",
              "136                                                 Sì                                                        \n",
              "137                                                 Sì                                                        \n",
              "138                                                 Sì                                                        \n",
              "139                                                 Sì                                                        \n",
              "\n",
              "    6.     [Se alla 5. hai risposto sì altrimenti passa alla prossima] Perché sì?  \\\n",
              "135  Credo che normative provenienti dall’alto sian...                              \n",
              "136  Credo che coinvolgimento significhi anche sens...                              \n",
              "137  Credo che sia un diritto/dovere di tutti parte...                              \n",
              "138  Credo che normative provenienti dall’alto sian...                              \n",
              "139  Credo che il coinvolgimento del cittadino sia ...                              \n",
              "\n",
              "    7. [Se alla 5. hai risposto no altrimenti passa alla prossima] Perché no?  \\\n",
              "135                                                NaN                          \n",
              "136                                                NaN                          \n",
              "137                                                NaN                          \n",
              "138                                                NaN                          \n",
              "139                                                NaN                          \n",
              "\n",
              "    8.     Pensi sia possibile essere in grado di gestire e sfruttare le risorse naturali entro il 2030 (riduzione dell'utilizzo delle risorse non sostenibili ed aumento di quelle sostenibili)?  \\\n",
              "135                                                 No                                                                                                                                              \n",
              "136                                                 Sì                                                                                                                                              \n",
              "137                                             Non so                                                                                                                                              \n",
              "138                                             Non so                                                                                                                                              \n",
              "139                                                 No                                                                                                                                              \n",
              "\n",
              "    9.     Indica quando sei d’accordo con la seguente affermazione: “penso che l’impegno delle multinazionali nell’adozione di pratiche sostenibili e nella sensibilizzazione in campo sostenibile sia essenziale”  \\\n",
              "135                                    Molto d’accordo                                                                                                                                                                \n",
              "136                                    Molto d’accordo                                                                                                                                                                \n",
              "137                                          D’accordo                                                                                                                                                                \n",
              "138                                          D’accordo                                                                                                                                                                \n",
              "139                                    Molto d’accordo                                                                                                                                                                \n",
              "\n",
              "    10.     Pensi sia possibile ridurre in maniera sostanziale la produzione di rifiuti entro il 2030?  \\\n",
              "135                                                 No                                                   \n",
              "136                                                 Sì                                                   \n",
              "137                                                 Sì                                                   \n",
              "138                                                 No                                                   \n",
              "139                                                 Sì                                                   \n",
              "\n",
              "     ...  \\\n",
              "135  ...   \n",
              "136  ...   \n",
              "137  ...   \n",
              "138  ...   \n",
              "139  ...   \n",
              "\n",
              "     27.     Quale delle seguenti caratteristiche del negozio ritieni tra le più importanti? (risposta multipla)  \\\n",
              "135  Disponibilità di parcheggio vicino;Orari di ap...                                                             \n",
              "136                                  Orari di apertura                                                             \n",
              "137  Orari di apertura;Dimensione del negozio;Dispo...                                                             \n",
              "138  Disponibilità di parcheggio vicino;Orari di ap...                                                             \n",
              "139   Dimensione del negozio;Disposizione dei prodotti                                                             \n",
              "\n",
              "    28.     Quanto influisce la posizione del negozio nelle tue decisioni di acquisto?  \\\n",
              "135                                                8.0                                   \n",
              "136                                                5.0                                   \n",
              "137                                                8.0                                   \n",
              "138                                               10.0                                   \n",
              "139                                                8.0                                   \n",
              "\n",
              "    29.     Vorresti avere più informazioni riguardo alle iniziative sostenibili e ai negozi sostenibili nella tua zona?  \\\n",
              "135                                                 Sì                                                                     \n",
              "136                                                 Sì                                                                     \n",
              "137                                                 Sì                                                                     \n",
              "138                                                 Sì                                                                     \n",
              "139                                                 Sì                                                                     \n",
              "\n",
              "    30.     Come vorresti ricevere queste informazioni?  \\\n",
              "135                        Via mail (nella newsletter)    \n",
              "136                           Tramite i social network    \n",
              "137                           Tramite i social network    \n",
              "138                           Tramite i social network    \n",
              "139                           Tramite i social network    \n",
              "\n",
              "    31.     Pensi che valga la pena di acquistare prodotti alimentari sostenibili?  \\\n",
              "135                                                 Sì                               \n",
              "136                                                 Sì                               \n",
              "137                                                 Sì                               \n",
              "138                                                 Sì                               \n",
              "139                                                 Sì                               \n",
              "\n",
              "      32.     [Se hai risposto sì alla 31.] Perché sì?  \\\n",
              "135                Perché sono di una qualità più alta   \n",
              "136                                Tutte le precedenti   \n",
              "137  Perché sono più naturali delle loro contropart...   \n",
              "138           Perché hanno un basso impatto ambientale   \n",
              "139           Perché hanno un basso impatto ambientale   \n",
              "\n",
              "    33.     [Se hai risposto no alla 31.] Perché no?  \\\n",
              "135                                              NaN   \n",
              "136                                              NaN   \n",
              "137                                              NaN   \n",
              "138                                              NaN   \n",
              "139                                              NaN   \n",
              "\n",
              "     34.     Qual è il tuo genere?  35.     Quanti anni hai?  \\\n",
              "135                          Donna                     31-43   \n",
              "136                           Uomo                     31-43   \n",
              "137                          Donna                     18-30   \n",
              "138                           Uomo                     18-30   \n",
              "139                           Uomo                     18-30   \n",
              "\n",
              "    36.     Qual è la tua occupazione?  \n",
              "135                          Impiegato  \n",
              "136              Libero professionista  \n",
              "137                          Impiegato  \n",
              "138                           Studente  \n",
              "139                           Studente  \n",
              "\n",
              "[5 rows x 36 columns]"
            ],
            "text/html": [
              "\n",
              "  <div id=\"df-11b5e775-2867-430f-88a0-8121349cd73d\" class=\"colab-df-container\">\n",
              "    <div>\n",
              "<style scoped>\n",
              "    .dataframe tbody tr th:only-of-type {\n",
              "        vertical-align: middle;\n",
              "    }\n",
              "\n",
              "    .dataframe tbody tr th {\n",
              "        vertical-align: top;\n",
              "    }\n",
              "\n",
              "    .dataframe thead th {\n",
              "        text-align: right;\n",
              "    }\n",
              "</style>\n",
              "<table border=\"1\" class=\"dataframe\">\n",
              "  <thead>\n",
              "    <tr style=\"text-align: right;\">\n",
              "      <th></th>\n",
              "      <th>1.     Sei a conoscenza dell’esistenza dei Sustainable Developement Goals (obbiettivi di sviluppo sostenibile) delle Nazioni Unite?</th>\n",
              "      <th>2.     Quanto ritieni importante la questione sostenibilità sociale, ambientale ed economica? Indicalo nella scala da 1 a 10</th>\n",
              "      <th>3.     Credi che la responsabilità di uno sviluppo sostenibile ricada più su:</th>\n",
              "      <th>4.     Indica quanto sei d’accordo con la seguente affermazione: “Realtà sostenibili ed incentrate sull’economia circolare sono essenziali per il raggiungimento di una realtà sostenibile”</th>\n",
              "      <th>5.     Vorresti essere più coinvolto nelle decisioni statali riguardanti normative sulla sostenibilità?</th>\n",
              "      <th>6.     [Se alla 5. hai risposto sì altrimenti passa alla prossima] Perché sì?</th>\n",
              "      <th>7. [Se alla 5. hai risposto no altrimenti passa alla prossima] Perché no?</th>\n",
              "      <th>8.     Pensi sia possibile essere in grado di gestire e sfruttare le risorse naturali entro il 2030 (riduzione dell'utilizzo delle risorse non sostenibili ed aumento di quelle sostenibili)?</th>\n",
              "      <th>9.     Indica quando sei d’accordo con la seguente affermazione: “penso che l’impegno delle multinazionali nell’adozione di pratiche sostenibili e nella sensibilizzazione in campo sostenibile sia essenziale”</th>\n",
              "      <th>10.     Pensi sia possibile ridurre in maniera sostanziale la produzione di rifiuti entro il 2030?</th>\n",
              "      <th>...</th>\n",
              "      <th>27.     Quale delle seguenti caratteristiche del negozio ritieni tra le più importanti? (risposta multipla)</th>\n",
              "      <th>28.     Quanto influisce la posizione del negozio nelle tue decisioni di acquisto?</th>\n",
              "      <th>29.     Vorresti avere più informazioni riguardo alle iniziative sostenibili e ai negozi sostenibili nella tua zona?</th>\n",
              "      <th>30.     Come vorresti ricevere queste informazioni?</th>\n",
              "      <th>31.     Pensi che valga la pena di acquistare prodotti alimentari sostenibili?</th>\n",
              "      <th>32.     [Se hai risposto sì alla 31.] Perché sì?</th>\n",
              "      <th>33.     [Se hai risposto no alla 31.] Perché no?</th>\n",
              "      <th>34.     Qual è il tuo genere?</th>\n",
              "      <th>35.     Quanti anni hai?</th>\n",
              "      <th>36.     Qual è la tua occupazione?</th>\n",
              "    </tr>\n",
              "  </thead>\n",
              "  <tbody>\n",
              "    <tr>\n",
              "      <th>135</th>\n",
              "      <td>Sì</td>\n",
              "      <td>10.0</td>\n",
              "      <td>Cittadino</td>\n",
              "      <td>D’accordo</td>\n",
              "      <td>Sì</td>\n",
              "      <td>Credo che normative provenienti dall’alto sian...</td>\n",
              "      <td>NaN</td>\n",
              "      <td>No</td>\n",
              "      <td>Molto d’accordo</td>\n",
              "      <td>No</td>\n",
              "      <td>...</td>\n",
              "      <td>Disponibilità di parcheggio vicino;Orari di ap...</td>\n",
              "      <td>8.0</td>\n",
              "      <td>Sì</td>\n",
              "      <td>Via mail (nella newsletter)</td>\n",
              "      <td>Sì</td>\n",
              "      <td>Perché sono di una qualità più alta</td>\n",
              "      <td>NaN</td>\n",
              "      <td>Donna</td>\n",
              "      <td>31-43</td>\n",
              "      <td>Impiegato</td>\n",
              "    </tr>\n",
              "    <tr>\n",
              "      <th>136</th>\n",
              "      <td>Sì</td>\n",
              "      <td>10.0</td>\n",
              "      <td>Nessuna delle precedenti</td>\n",
              "      <td>Molto d’accordo</td>\n",
              "      <td>Sì</td>\n",
              "      <td>Credo che coinvolgimento significhi anche sens...</td>\n",
              "      <td>NaN</td>\n",
              "      <td>Sì</td>\n",
              "      <td>Molto d’accordo</td>\n",
              "      <td>Sì</td>\n",
              "      <td>...</td>\n",
              "      <td>Orari di apertura</td>\n",
              "      <td>5.0</td>\n",
              "      <td>Sì</td>\n",
              "      <td>Tramite i social network</td>\n",
              "      <td>Sì</td>\n",
              "      <td>Tutte le precedenti</td>\n",
              "      <td>NaN</td>\n",
              "      <td>Uomo</td>\n",
              "      <td>31-43</td>\n",
              "      <td>Libero professionista</td>\n",
              "    </tr>\n",
              "    <tr>\n",
              "      <th>137</th>\n",
              "      <td>No</td>\n",
              "      <td>8.0</td>\n",
              "      <td>Cittadino</td>\n",
              "      <td>D’accordo</td>\n",
              "      <td>Sì</td>\n",
              "      <td>Credo che sia un diritto/dovere di tutti parte...</td>\n",
              "      <td>NaN</td>\n",
              "      <td>Non so</td>\n",
              "      <td>D’accordo</td>\n",
              "      <td>Sì</td>\n",
              "      <td>...</td>\n",
              "      <td>Orari di apertura;Dimensione del negozio;Dispo...</td>\n",
              "      <td>8.0</td>\n",
              "      <td>Sì</td>\n",
              "      <td>Tramite i social network</td>\n",
              "      <td>Sì</td>\n",
              "      <td>Perché sono più naturali delle loro contropart...</td>\n",
              "      <td>NaN</td>\n",
              "      <td>Donna</td>\n",
              "      <td>18-30</td>\n",
              "      <td>Impiegato</td>\n",
              "    </tr>\n",
              "    <tr>\n",
              "      <th>138</th>\n",
              "      <td>Sì</td>\n",
              "      <td>10.0</td>\n",
              "      <td>Cittadino</td>\n",
              "      <td>Molto d’accordo</td>\n",
              "      <td>Sì</td>\n",
              "      <td>Credo che normative provenienti dall’alto sian...</td>\n",
              "      <td>NaN</td>\n",
              "      <td>Non so</td>\n",
              "      <td>D’accordo</td>\n",
              "      <td>No</td>\n",
              "      <td>...</td>\n",
              "      <td>Disponibilità di parcheggio vicino;Orari di ap...</td>\n",
              "      <td>10.0</td>\n",
              "      <td>Sì</td>\n",
              "      <td>Tramite i social network</td>\n",
              "      <td>Sì</td>\n",
              "      <td>Perché hanno un basso impatto ambientale</td>\n",
              "      <td>NaN</td>\n",
              "      <td>Uomo</td>\n",
              "      <td>18-30</td>\n",
              "      <td>Studente</td>\n",
              "    </tr>\n",
              "    <tr>\n",
              "      <th>139</th>\n",
              "      <td>Sì</td>\n",
              "      <td>10.0</td>\n",
              "      <td>Aziende</td>\n",
              "      <td>Molto d’accordo</td>\n",
              "      <td>Sì</td>\n",
              "      <td>Credo che il coinvolgimento del cittadino sia ...</td>\n",
              "      <td>NaN</td>\n",
              "      <td>No</td>\n",
              "      <td>Molto d’accordo</td>\n",
              "      <td>Sì</td>\n",
              "      <td>...</td>\n",
              "      <td>Dimensione del negozio;Disposizione dei prodotti</td>\n",
              "      <td>8.0</td>\n",
              "      <td>Sì</td>\n",
              "      <td>Tramite i social network</td>\n",
              "      <td>Sì</td>\n",
              "      <td>Perché hanno un basso impatto ambientale</td>\n",
              "      <td>NaN</td>\n",
              "      <td>Uomo</td>\n",
              "      <td>18-30</td>\n",
              "      <td>Studente</td>\n",
              "    </tr>\n",
              "  </tbody>\n",
              "</table>\n",
              "<p>5 rows × 36 columns</p>\n",
              "</div>\n",
              "    <div class=\"colab-df-buttons\">\n",
              "\n",
              "  <div class=\"colab-df-container\">\n",
              "    <button class=\"colab-df-convert\" onclick=\"convertToInteractive('df-11b5e775-2867-430f-88a0-8121349cd73d')\"\n",
              "            title=\"Convert this dataframe to an interactive table.\"\n",
              "            style=\"display:none;\">\n",
              "\n",
              "  <svg xmlns=\"http://www.w3.org/2000/svg\" height=\"24px\" viewBox=\"0 -960 960 960\">\n",
              "    <path d=\"M120-120v-720h720v720H120Zm60-500h600v-160H180v160Zm220 220h160v-160H400v160Zm0 220h160v-160H400v160ZM180-400h160v-160H180v160Zm440 0h160v-160H620v160ZM180-180h160v-160H180v160Zm440 0h160v-160H620v160Z\"/>\n",
              "  </svg>\n",
              "    </button>\n",
              "\n",
              "  <style>\n",
              "    .colab-df-container {\n",
              "      display:flex;\n",
              "      gap: 12px;\n",
              "    }\n",
              "\n",
              "    .colab-df-convert {\n",
              "      background-color: #E8F0FE;\n",
              "      border: none;\n",
              "      border-radius: 50%;\n",
              "      cursor: pointer;\n",
              "      display: none;\n",
              "      fill: #1967D2;\n",
              "      height: 32px;\n",
              "      padding: 0 0 0 0;\n",
              "      width: 32px;\n",
              "    }\n",
              "\n",
              "    .colab-df-convert:hover {\n",
              "      background-color: #E2EBFA;\n",
              "      box-shadow: 0px 1px 2px rgba(60, 64, 67, 0.3), 0px 1px 3px 1px rgba(60, 64, 67, 0.15);\n",
              "      fill: #174EA6;\n",
              "    }\n",
              "\n",
              "    .colab-df-buttons div {\n",
              "      margin-bottom: 4px;\n",
              "    }\n",
              "\n",
              "    [theme=dark] .colab-df-convert {\n",
              "      background-color: #3B4455;\n",
              "      fill: #D2E3FC;\n",
              "    }\n",
              "\n",
              "    [theme=dark] .colab-df-convert:hover {\n",
              "      background-color: #434B5C;\n",
              "      box-shadow: 0px 1px 3px 1px rgba(0, 0, 0, 0.15);\n",
              "      filter: drop-shadow(0px 1px 2px rgba(0, 0, 0, 0.3));\n",
              "      fill: #FFFFFF;\n",
              "    }\n",
              "  </style>\n",
              "\n",
              "    <script>\n",
              "      const buttonEl =\n",
              "        document.querySelector('#df-11b5e775-2867-430f-88a0-8121349cd73d button.colab-df-convert');\n",
              "      buttonEl.style.display =\n",
              "        google.colab.kernel.accessAllowed ? 'block' : 'none';\n",
              "\n",
              "      async function convertToInteractive(key) {\n",
              "        const element = document.querySelector('#df-11b5e775-2867-430f-88a0-8121349cd73d');\n",
              "        const dataTable =\n",
              "          await google.colab.kernel.invokeFunction('convertToInteractive',\n",
              "                                                    [key], {});\n",
              "        if (!dataTable) return;\n",
              "\n",
              "        const docLinkHtml = 'Like what you see? Visit the ' +\n",
              "          '<a target=\"_blank\" href=https://colab.research.google.com/notebooks/data_table.ipynb>data table notebook</a>'\n",
              "          + ' to learn more about interactive tables.';\n",
              "        element.innerHTML = '';\n",
              "        dataTable['output_type'] = 'display_data';\n",
              "        await google.colab.output.renderOutput(dataTable, element);\n",
              "        const docLink = document.createElement('div');\n",
              "        docLink.innerHTML = docLinkHtml;\n",
              "        element.appendChild(docLink);\n",
              "      }\n",
              "    </script>\n",
              "  </div>\n",
              "\n",
              "\n",
              "<div id=\"df-94f69cdf-aa5a-44b8-a5f0-ccf446e68afe\">\n",
              "  <button class=\"colab-df-quickchart\" onclick=\"quickchart('df-94f69cdf-aa5a-44b8-a5f0-ccf446e68afe')\"\n",
              "            title=\"Suggest charts\"\n",
              "            style=\"display:none;\">\n",
              "\n",
              "<svg xmlns=\"http://www.w3.org/2000/svg\" height=\"24px\"viewBox=\"0 0 24 24\"\n",
              "     width=\"24px\">\n",
              "    <g>\n",
              "        <path d=\"M19 3H5c-1.1 0-2 .9-2 2v14c0 1.1.9 2 2 2h14c1.1 0 2-.9 2-2V5c0-1.1-.9-2-2-2zM9 17H7v-7h2v7zm4 0h-2V7h2v10zm4 0h-2v-4h2v4z\"/>\n",
              "    </g>\n",
              "</svg>\n",
              "  </button>\n",
              "\n",
              "<style>\n",
              "  .colab-df-quickchart {\n",
              "      --bg-color: #E8F0FE;\n",
              "      --fill-color: #1967D2;\n",
              "      --hover-bg-color: #E2EBFA;\n",
              "      --hover-fill-color: #174EA6;\n",
              "      --disabled-fill-color: #AAA;\n",
              "      --disabled-bg-color: #DDD;\n",
              "  }\n",
              "\n",
              "  [theme=dark] .colab-df-quickchart {\n",
              "      --bg-color: #3B4455;\n",
              "      --fill-color: #D2E3FC;\n",
              "      --hover-bg-color: #434B5C;\n",
              "      --hover-fill-color: #FFFFFF;\n",
              "      --disabled-bg-color: #3B4455;\n",
              "      --disabled-fill-color: #666;\n",
              "  }\n",
              "\n",
              "  .colab-df-quickchart {\n",
              "    background-color: var(--bg-color);\n",
              "    border: none;\n",
              "    border-radius: 50%;\n",
              "    cursor: pointer;\n",
              "    display: none;\n",
              "    fill: var(--fill-color);\n",
              "    height: 32px;\n",
              "    padding: 0;\n",
              "    width: 32px;\n",
              "  }\n",
              "\n",
              "  .colab-df-quickchart:hover {\n",
              "    background-color: var(--hover-bg-color);\n",
              "    box-shadow: 0 1px 2px rgba(60, 64, 67, 0.3), 0 1px 3px 1px rgba(60, 64, 67, 0.15);\n",
              "    fill: var(--button-hover-fill-color);\n",
              "  }\n",
              "\n",
              "  .colab-df-quickchart-complete:disabled,\n",
              "  .colab-df-quickchart-complete:disabled:hover {\n",
              "    background-color: var(--disabled-bg-color);\n",
              "    fill: var(--disabled-fill-color);\n",
              "    box-shadow: none;\n",
              "  }\n",
              "\n",
              "  .colab-df-spinner {\n",
              "    border: 2px solid var(--fill-color);\n",
              "    border-color: transparent;\n",
              "    border-bottom-color: var(--fill-color);\n",
              "    animation:\n",
              "      spin 1s steps(1) infinite;\n",
              "  }\n",
              "\n",
              "  @keyframes spin {\n",
              "    0% {\n",
              "      border-color: transparent;\n",
              "      border-bottom-color: var(--fill-color);\n",
              "      border-left-color: var(--fill-color);\n",
              "    }\n",
              "    20% {\n",
              "      border-color: transparent;\n",
              "      border-left-color: var(--fill-color);\n",
              "      border-top-color: var(--fill-color);\n",
              "    }\n",
              "    30% {\n",
              "      border-color: transparent;\n",
              "      border-left-color: var(--fill-color);\n",
              "      border-top-color: var(--fill-color);\n",
              "      border-right-color: var(--fill-color);\n",
              "    }\n",
              "    40% {\n",
              "      border-color: transparent;\n",
              "      border-right-color: var(--fill-color);\n",
              "      border-top-color: var(--fill-color);\n",
              "    }\n",
              "    60% {\n",
              "      border-color: transparent;\n",
              "      border-right-color: var(--fill-color);\n",
              "    }\n",
              "    80% {\n",
              "      border-color: transparent;\n",
              "      border-right-color: var(--fill-color);\n",
              "      border-bottom-color: var(--fill-color);\n",
              "    }\n",
              "    90% {\n",
              "      border-color: transparent;\n",
              "      border-bottom-color: var(--fill-color);\n",
              "    }\n",
              "  }\n",
              "</style>\n",
              "\n",
              "  <script>\n",
              "    async function quickchart(key) {\n",
              "      const quickchartButtonEl =\n",
              "        document.querySelector('#' + key + ' button');\n",
              "      quickchartButtonEl.disabled = true;  // To prevent multiple clicks.\n",
              "      quickchartButtonEl.classList.add('colab-df-spinner');\n",
              "      try {\n",
              "        const charts = await google.colab.kernel.invokeFunction(\n",
              "            'suggestCharts', [key], {});\n",
              "      } catch (error) {\n",
              "        console.error('Error during call to suggestCharts:', error);\n",
              "      }\n",
              "      quickchartButtonEl.classList.remove('colab-df-spinner');\n",
              "      quickchartButtonEl.classList.add('colab-df-quickchart-complete');\n",
              "    }\n",
              "    (() => {\n",
              "      let quickchartButtonEl =\n",
              "        document.querySelector('#df-94f69cdf-aa5a-44b8-a5f0-ccf446e68afe button');\n",
              "      quickchartButtonEl.style.display =\n",
              "        google.colab.kernel.accessAllowed ? 'block' : 'none';\n",
              "    })();\n",
              "  </script>\n",
              "</div>\n",
              "    </div>\n",
              "  </div>\n"
            ]
          },
          "metadata": {},
          "execution_count": 5
        }
      ]
    },
    {
      "cell_type": "code",
      "source": [
        "for col in df.columns:\n",
        "  print(col)"
      ],
      "metadata": {
        "colab": {
          "base_uri": "https://localhost:8080/"
        },
        "id": "blbZK27xV1Rr",
        "outputId": "10fa1a2b-2469-4231-cf2a-e8ba9084547a"
      },
      "execution_count": null,
      "outputs": [
        {
          "output_type": "stream",
          "name": "stdout",
          "text": [
            "1.     Sei a conoscenza dell’esistenza dei Sustainable Developement Goals (obbiettivi di sviluppo sostenibile) delle Nazioni Unite?\n",
            "2.     Quanto ritieni importante la questione sostenibilità sociale, ambientale ed economica? Indicalo nella scala da 1 a 10 \n",
            "3.     Credi che la responsabilità di uno sviluppo sostenibile ricada più su:\n",
            "4.     Indica quanto sei d’accordo con la seguente affermazione: “Realtà sostenibili ed incentrate sull’economia circolare sono essenziali per il raggiungimento di una realtà sostenibile”\n",
            "5.     Vorresti essere più coinvolto nelle decisioni statali riguardanti normative sulla sostenibilità?\n",
            "6.     [Se alla 5. hai risposto sì altrimenti passa alla prossima] Perché sì?\n",
            "7. [Se alla 5. hai risposto no altrimenti passa alla prossima] Perché no?\n",
            "8.     Pensi sia possibile essere in grado di gestire e sfruttare le risorse naturali entro il 2030 (riduzione dell'utilizzo delle risorse non sostenibili ed aumento di quelle sostenibili)?\n",
            "9.     Indica quando sei d’accordo con la seguente affermazione: “penso che l’impegno delle multinazionali nell’adozione di pratiche sostenibili e nella sensibilizzazione in campo sostenibile sia essenziale”\n",
            "10.     Pensi sia possibile ridurre in maniera sostanziale la produzione di rifiuti entro il 2030?\n",
            "11.     Quanto è importante per te la riduzione dello spreco di alimenti nel raggiungimento di una società sostenibile?\n",
            "12.     Indica quali dei seguenti obiettivi sono importanti nella battaglia al cambiamento climatico (risposta multipla)\n",
            "13.     Indica quanto sei d’accordo con la seguente affermazione: “è importante valorizzare e sostenere le piccole imprese di produzione alimentare (agricola e non)”\n",
            "14.     Quanto è importante per te l’implementazione di tecniche agricole che incrementino: la produzione per ettaro, la resilienza dell’ecosistema a disastri ecologici e la qualità dei terreni?\n",
            "15.     Quando vai al supermercato quanto spesso pensi alla sostenibilità dei prodotti che acquisti?\n",
            "16.     Che categoria di prodotti sostenibili acquisti normalmente? (risposta multipla)\n",
            "17.     Qual è il motivo per cui acquisti prodotti sostenibili?\n",
            "18.     In una scala da 1 a 10 indica quanto è importante l’ecosostenibilità dei prodotti acquistati\n",
            "19.     In una scala da uno a 10 indica quanto è importante l’estetica dei prodotti venduti\n",
            "20.     Sei soddisfatt* dai prodotti sostenibili presenti al supermercato?\n",
            " \n",
            "21.    [In caso di risposta negativa altrimenti passa alla prossima] qual è la ragione per cui non sei soddisfatt*?\n",
            "22.     Che settore secondo te ha una varietà di prodotti troppo bassa?\n",
            "23.     Che prodotti vorresti venissero aggiunti? \n",
            "24.     Indica quanto sei d’accordo con la seguente affermazione “La trasparenza riguardo ai prodotti sostenibili è essenziale (provenienza, produttore, sostenibilità)”\n",
            "25.     Indica quanto sei d’accordo con la seguente affermazione “I negozi sostenibili sono trasparenti riguardo alla sostenibilità e all’impatto ambientale dei loro prodotti”\n",
            "26.     Che informazioni ritieni debbano essere date in aggiunta a quelle già fornite?\n",
            "27.     Quale delle seguenti caratteristiche del negozio ritieni tra le più importanti? (risposta multipla)\n",
            "28.     Quanto influisce la posizione del negozio nelle tue decisioni di acquisto?\n",
            "29.     Vorresti avere più informazioni riguardo alle iniziative sostenibili e ai negozi sostenibili nella tua zona?\n",
            "30.     Come vorresti ricevere queste informazioni?\n",
            "31.     Pensi che valga la pena di acquistare prodotti alimentari sostenibili?\n",
            "32.     [Se hai risposto sì alla 31.] Perché sì?\n",
            "33.     [Se hai risposto no alla 31.] Perché no?\n",
            "34.     Qual è il tuo genere?\n",
            "35.     Quanti anni hai?\n",
            "36.     Qual è la tua occupazione?\n"
          ]
        }
      ]
    },
    {
      "cell_type": "markdown",
      "source": [
        "SDG questions:\n",
        "- Sei a conoscenza dell’esistenza dei Sustainable Developement Goals (obbiettivi di sviluppo sostenibile) delle Nazioni Unite?\n",
        "-  Indica quanto sei d’accordo con la seguente affermazione: “Realtà sostenibili ed incentrate sull’economia circolare sono essenziali per il raggiungimento di una realtà sostenibile”\n",
        "- Vorresti essere più coinvolto nelle decisioni statali riguardanti normative sulla sostenibilità?\n",
        "- Pensi sia possibile essere in grado di gestire e sfruttare le risorse naturali entro il 2030 (riduzione dell'utilizzo delle risorse non sostenibili ed aumento di quelle sostenibili)?\n",
        "- Pensi sia possibile ridurre in maniera sostanziale la produzione di rifiuti entro il 2030?\n",
        "- Indica quanto sei d’accordo con la seguente affermazione: “è importante valorizzare e sostenere le piccole imprese di produzione alimentare (agricola e non)”\n",
        "-  Quanto è importante per te l’implementazione di tecniche agricole che incrementino: la produzione per ettaro, la resilienza dell’ecosistema a disastri ecologici e la qualità dei terreni?\\\n",
        "\\\n",
        "Interesting Questions:\n",
        "- Indica quali dei seguenti obiettivi sono importanti nella battaglia al cambiamento climatico (risposta multipla)\n",
        "- Qual è il motivo per cui acquisti prodotti sostenibili?\n"
      ],
      "metadata": {
        "id": "uAci2hSysOYK"
      }
    },
    {
      "cell_type": "code",
      "source": [
        "df = df.drop(df[df['35.     Quanti anni hai?'] == '70-82'].index)\n",
        "df = df.drop(df[df['35.     Quanti anni hai?'] == 'Preferisco non dichiarare'].index)"
      ],
      "metadata": {
        "id": "zdLXdZvSW3MF"
      },
      "execution_count": null,
      "outputs": []
    },
    {
      "cell_type": "markdown",
      "source": [
        "Missing Value handling"
      ],
      "metadata": {
        "id": "UPQ55WLvz-hG"
      }
    },
    {
      "cell_type": "code",
      "source": [
        "df.isna().sum()"
      ],
      "metadata": {
        "id": "FTt47e1R0Bh9",
        "colab": {
          "base_uri": "https://localhost:8080/"
        },
        "outputId": "a9848001-7d47-47b5-c6f4-44434f77e3a6"
      },
      "execution_count": null,
      "outputs": [
        {
          "output_type": "execute_result",
          "data": {
            "text/plain": [
              "1.     Sei a conoscenza dell’esistenza dei Sustainable Developement Goals (obbiettivi di sviluppo sostenibile) delle Nazioni Unite?                                                                                  2\n",
              "2.     Quanto ritieni importante la questione sostenibilità sociale, ambientale ed economica? Indicalo nella scala da 1 a 10                                                                                         2\n",
              "3.     Credi che la responsabilità di uno sviluppo sostenibile ricada più su:                                                                                                                                        1\n",
              "4.     Indica quanto sei d’accordo con la seguente affermazione: “Realtà sostenibili ed incentrate sull’economia circolare sono essenziali per il raggiungimento di una realtà sostenibile”                          2\n",
              "5.     Vorresti essere più coinvolto nelle decisioni statali riguardanti normative sulla sostenibilità?                                                                                                              1\n",
              "6.     [Se alla 5. hai risposto sì altrimenti passa alla prossima] Perché sì?                                                                                                                                       14\n",
              "7. [Se alla 5. hai risposto no altrimenti passa alla prossima] Perché no?                                                                                                                                          117\n",
              "8.     Pensi sia possibile essere in grado di gestire e sfruttare le risorse naturali entro il 2030 (riduzione dell'utilizzo delle risorse non sostenibili ed aumento di quelle sostenibili)?                        1\n",
              "9.     Indica quando sei d’accordo con la seguente affermazione: “penso che l’impegno delle multinazionali nell’adozione di pratiche sostenibili e nella sensibilizzazione in campo sostenibile sia essenziale”      1\n",
              "10.     Pensi sia possibile ridurre in maniera sostanziale la produzione di rifiuti entro il 2030?                                                                                                                   1\n",
              "11.     Quanto è importante per te la riduzione dello spreco di alimenti nel raggiungimento di una società sostenibile?                                                                                              1\n",
              "12.     Indica quali dei seguenti obiettivi sono importanti nella battaglia al cambiamento climatico (risposta multipla)                                                                                             3\n",
              "13.     Indica quanto sei d’accordo con la seguente affermazione: “è importante valorizzare e sostenere le piccole imprese di produzione alimentare (agricola e non)”                                                1\n",
              "14.     Quanto è importante per te l’implementazione di tecniche agricole che incrementino: la produzione per ettaro, la resilienza dell’ecosistema a disastri ecologici e la qualità dei terreni?                   1\n",
              "15.     Quando vai al supermercato quanto spesso pensi alla sostenibilità dei prodotti che acquisti?                                                                                                                 1\n",
              "16.     Che categoria di prodotti sostenibili acquisti normalmente? (risposta multipla)                                                                                                                              7\n",
              "17.     Qual è il motivo per cui acquisti prodotti sostenibili?                                                                                                                                                      2\n",
              "18.     In una scala da 1 a 10 indica quanto è importante l’ecosostenibilità dei prodotti acquistati                                                                                                                 1\n",
              "19.     In una scala da uno a 10 indica quanto è importante l’estetica dei prodotti venduti                                                                                                                          1\n",
              "20.     Sei soddisfatt* dai prodotti sostenibili presenti al supermercato?                                                                                                                                           2\n",
              " \\n21.    [In caso di risposta negativa altrimenti passa alla prossima] qual è la ragione per cui non sei soddisfatt*?                                                                                              42\n",
              "22.     Che settore secondo te ha una varietà di prodotti troppo bassa?                                                                                                                                             16\n",
              "23.     Che prodotti vorresti venissero aggiunti?                                                                                                                                                                   82\n",
              "24.     Indica quanto sei d’accordo con la seguente affermazione “La trasparenza riguardo ai prodotti sostenibili è essenziale (provenienza, produttore, sostenibilità)”                                             2\n",
              "25.     Indica quanto sei d’accordo con la seguente affermazione “I negozi sostenibili sono trasparenti riguardo alla sostenibilità e all’impatto ambientale dei loro prodotti”                                      3\n",
              "26.     Che informazioni ritieni debbano essere date in aggiunta a quelle già fornite?                                                                                                                               3\n",
              "27.     Quale delle seguenti caratteristiche del negozio ritieni tra le più importanti? (risposta multipla)                                                                                                          3\n",
              "28.     Quanto influisce la posizione del negozio nelle tue decisioni di acquisto?                                                                                                                                   1\n",
              "29.     Vorresti avere più informazioni riguardo alle iniziative sostenibili e ai negozi sostenibili nella tua zona?                                                                                                 1\n",
              "30.     Come vorresti ricevere queste informazioni?                                                                                                                                                                 16\n",
              "31.     Pensi che valga la pena di acquistare prodotti alimentari sostenibili?                                                                                                                                       1\n",
              "32.     [Se hai risposto sì alla 31.] Perché sì?                                                                                                                                                                     7\n",
              "33.     [Se hai risposto no alla 31.] Perché no?                                                                                                                                                                   128\n",
              "34.     Qual è il tuo genere?                                                                                                                                                                                        1\n",
              "35.     Quanti anni hai?                                                                                                                                                                                             1\n",
              "36.     Qual è la tua occupazione?                                                                                                                                                                                   1\n",
              "dtype: int64"
            ]
          },
          "metadata": {},
          "execution_count": 8
        }
      ]
    },
    {
      "cell_type": "code",
      "source": [
        "## QUESTIONS ##\n",
        "df['1.     Sei a conoscenza dell’esistenza dei Sustainable Developement Goals (obbiettivi di sviluppo sostenibile) delle Nazioni Unite?'].where(pd.notna(df['1.     Sei a conoscenza dell’esistenza dei Sustainable Developement Goals (obbiettivi di sviluppo sostenibile) delle Nazioni Unite?']), 'No', inplace = True)\n",
        "df['4.     Indica quanto sei d’accordo con la seguente affermazione: “Realtà sostenibili ed incentrate sull’economia circolare sono essenziali per il raggiungimento di una realtà sostenibile”'].where(pd.notna(df['4.     Indica quanto sei d’accordo con la seguente affermazione: “Realtà sostenibili ed incentrate sull’economia circolare sono essenziali per il raggiungimento di una realtà sostenibile”']), 'Indifferente', inplace = True )\n",
        "df['5.     Vorresti essere più coinvolto nelle decisioni statali riguardanti normative sulla sostenibilità?'].where(pd.notna(df['5.     Vorresti essere più coinvolto nelle decisioni statali riguardanti normative sulla sostenibilità?']), 'No')\n",
        "df['8.     Pensi sia possibile essere in grado di gestire e sfruttare le risorse naturali entro il 2030 (riduzione dell\\'utilizzo delle risorse non sostenibili ed aumento di quelle sostenibili)?'].where(pd.notna(df['8.     Pensi sia possibile essere in grado di gestire e sfruttare le risorse naturali entro il 2030 (riduzione dell\\'utilizzo delle risorse non sostenibili ed aumento di quelle sostenibili)?']), 'Non so')\n",
        "df['10.     Pensi sia possibile ridurre in maniera sostanziale la produzione di rifiuti entro il 2030?'].where(pd.notna(df['10.     Pensi sia possibile ridurre in maniera sostanziale la produzione di rifiuti entro il 2030?']), 'Non so')\n",
        "df['13.     Indica quanto sei d’accordo con la seguente affermazione: “è importante valorizzare e sostenere le piccole imprese di produzione alimentare (agricola e non)”'].where(pd.notna(df['13.     Indica quanto sei d’accordo con la seguente affermazione: “è importante valorizzare e sostenere le piccole imprese di produzione alimentare (agricola e non)”']), 'Non so')\n",
        "df['14.     Quanto è importante per te l’implementazione di tecniche agricole che incrementino: la produzione per ettaro, la resilienza dell’ecosistema a disastri ecologici e la qualità dei terreni?'].where(pd.notna(df['14.     Quanto è importante per te l’implementazione di tecniche agricole che incrementino: la produzione per ettaro, la resilienza dell’ecosistema a disastri ecologici e la qualità dei terreni?']), 'Non so')\n",
        "\n",
        "\n",
        "\n",
        "## DEMOGRAPHICS ##\n",
        "df['34.     Qual è il tuo genere?'].where(pd.notna(df['34.     Qual è il tuo genere?']), 'Preferisco non specificare')\n",
        "df['36.     Qual è la tua occupazione?'].where(pd.notna(df['36.     Qual è la tua occupazione?']), 'Preferisco non specificare')\n",
        "\n"
      ],
      "metadata": {
        "id": "h_iaLAK-01JT",
        "colab": {
          "base_uri": "https://localhost:8080/"
        },
        "outputId": "2bc5ec5c-4505-4348-ce89-41235f9c6a91"
      },
      "execution_count": null,
      "outputs": [
        {
          "output_type": "execute_result",
          "data": {
            "text/plain": [
              "0      Preferisco non specificare\n",
              "1                        Studente\n",
              "2                        Studente\n",
              "3                       Impiegato\n",
              "4                       Impiegato\n",
              "                  ...            \n",
              "135                     Impiegato\n",
              "136         Libero professionista\n",
              "137                     Impiegato\n",
              "138                      Studente\n",
              "139                      Studente\n",
              "Name: 36.     Qual è la tua occupazione?, Length: 136, dtype: object"
            ]
          },
          "metadata": {},
          "execution_count": 9
        }
      ]
    },
    {
      "cell_type": "markdown",
      "source": [
        "# Age SDG"
      ],
      "metadata": {
        "id": "yLoKQOc5UG7q"
      }
    },
    {
      "cell_type": "markdown",
      "source": [
        "1. Knowledge"
      ],
      "metadata": {
        "id": "MfgiQPJ9BoiL"
      }
    },
    {
      "cell_type": "code",
      "source": [
        "age_know = (df.groupby('35.     Quanti anni hai?')['1.     Sei a conoscenza dell’esistenza dei Sustainable Developement Goals (obbiettivi di sviluppo sostenibile) delle Nazioni Unite?'].value_counts())/df.groupby('35.     Quanti anni hai?')['1.     Sei a conoscenza dell’esistenza dei Sustainable Developement Goals (obbiettivi di sviluppo sostenibile) delle Nazioni Unite?'].count()\n",
        "print(age_know)\n",
        "fig, ax = plt.subplots()\n",
        "age_know.unstack().plot.bar(stacked = True, ax = ax)\n",
        "ax.legend(title = 'SDG Knowledge', bbox_to_anchor=(1.05, 1), loc='upper left', fontsize = 'small', fancybox = True)\n",
        "ax.set_title('Age/Knowledge')\n",
        "ax.set_xlabel('Age')\n",
        "ax.set_ylabel('Frequency')"
      ],
      "metadata": {
        "id": "vJgg2E2xW9gd",
        "colab": {
          "base_uri": "https://localhost:8080/",
          "height": 279
        },
        "outputId": "1c8b7e9a-965a-4b7a-d2ac-4efbc588bd8d"
      },
      "execution_count": null,
      "outputs": [
        {
          "output_type": "error",
          "ename": "NameError",
          "evalue": "ignored",
          "traceback": [
            "\u001b[0;31m---------------------------------------------------------------------------\u001b[0m",
            "\u001b[0;31mNameError\u001b[0m                                 Traceback (most recent call last)",
            "\u001b[0;32m<ipython-input-1-0194fe2204d4>\u001b[0m in \u001b[0;36m<cell line: 1>\u001b[0;34m()\u001b[0m\n\u001b[0;32m----> 1\u001b[0;31m \u001b[0mage_know\u001b[0m \u001b[0;34m=\u001b[0m \u001b[0;34m(\u001b[0m\u001b[0mdf\u001b[0m\u001b[0;34m.\u001b[0m\u001b[0mgroupby\u001b[0m\u001b[0;34m(\u001b[0m\u001b[0;34m'35.     Quanti anni hai?'\u001b[0m\u001b[0;34m)\u001b[0m\u001b[0;34m[\u001b[0m\u001b[0;34m'1.     Sei a conoscenza dell’esistenza dei Sustainable Developement Goals (obbiettivi di sviluppo sostenibile) delle Nazioni Unite?'\u001b[0m\u001b[0;34m]\u001b[0m\u001b[0;34m.\u001b[0m\u001b[0mvalue_counts\u001b[0m\u001b[0;34m(\u001b[0m\u001b[0;34m)\u001b[0m\u001b[0;34m)\u001b[0m\u001b[0;34m/\u001b[0m\u001b[0mdf\u001b[0m\u001b[0;34m.\u001b[0m\u001b[0mgroupby\u001b[0m\u001b[0;34m(\u001b[0m\u001b[0;34m'35.     Quanti anni hai?'\u001b[0m\u001b[0;34m)\u001b[0m\u001b[0;34m[\u001b[0m\u001b[0;34m'1.     Sei a conoscenza dell’esistenza dei Sustainable Developement Goals (obbiettivi di sviluppo sostenibile) delle Nazioni Unite?'\u001b[0m\u001b[0;34m]\u001b[0m\u001b[0;34m.\u001b[0m\u001b[0mcount\u001b[0m\u001b[0;34m(\u001b[0m\u001b[0;34m)\u001b[0m\u001b[0;34m\u001b[0m\u001b[0;34m\u001b[0m\u001b[0m\n\u001b[0m\u001b[1;32m      2\u001b[0m \u001b[0mprint\u001b[0m\u001b[0;34m(\u001b[0m\u001b[0mage_know\u001b[0m\u001b[0;34m)\u001b[0m\u001b[0;34m\u001b[0m\u001b[0;34m\u001b[0m\u001b[0m\n\u001b[1;32m      3\u001b[0m \u001b[0mfig\u001b[0m\u001b[0;34m,\u001b[0m \u001b[0max\u001b[0m \u001b[0;34m=\u001b[0m \u001b[0mplt\u001b[0m\u001b[0;34m.\u001b[0m\u001b[0msubplots\u001b[0m\u001b[0;34m(\u001b[0m\u001b[0;34m)\u001b[0m\u001b[0;34m\u001b[0m\u001b[0;34m\u001b[0m\u001b[0m\n\u001b[1;32m      4\u001b[0m \u001b[0mage_know\u001b[0m\u001b[0;34m.\u001b[0m\u001b[0munstack\u001b[0m\u001b[0;34m(\u001b[0m\u001b[0;34m)\u001b[0m\u001b[0;34m.\u001b[0m\u001b[0mplot\u001b[0m\u001b[0;34m.\u001b[0m\u001b[0mbar\u001b[0m\u001b[0;34m(\u001b[0m\u001b[0mstacked\u001b[0m \u001b[0;34m=\u001b[0m \u001b[0;32mTrue\u001b[0m\u001b[0;34m,\u001b[0m \u001b[0max\u001b[0m \u001b[0;34m=\u001b[0m \u001b[0max\u001b[0m\u001b[0;34m)\u001b[0m\u001b[0;34m\u001b[0m\u001b[0;34m\u001b[0m\u001b[0m\n\u001b[1;32m      5\u001b[0m \u001b[0max\u001b[0m\u001b[0;34m.\u001b[0m\u001b[0mlegend\u001b[0m\u001b[0;34m(\u001b[0m\u001b[0mtitle\u001b[0m \u001b[0;34m=\u001b[0m \u001b[0;34m'SDG Knowledge'\u001b[0m\u001b[0;34m,\u001b[0m \u001b[0mbbox_to_anchor\u001b[0m\u001b[0;34m=\u001b[0m\u001b[0;34m(\u001b[0m\u001b[0;36m1.05\u001b[0m\u001b[0;34m,\u001b[0m \u001b[0;36m1\u001b[0m\u001b[0;34m)\u001b[0m\u001b[0;34m,\u001b[0m \u001b[0mloc\u001b[0m\u001b[0;34m=\u001b[0m\u001b[0;34m'upper left'\u001b[0m\u001b[0;34m,\u001b[0m \u001b[0mfontsize\u001b[0m \u001b[0;34m=\u001b[0m \u001b[0;34m'small'\u001b[0m\u001b[0;34m,\u001b[0m \u001b[0mfancybox\u001b[0m \u001b[0;34m=\u001b[0m \u001b[0;32mTrue\u001b[0m\u001b[0;34m)\u001b[0m\u001b[0;34m\u001b[0m\u001b[0;34m\u001b[0m\u001b[0m\n",
            "\u001b[0;31mNameError\u001b[0m: name 'df' is not defined"
          ]
        }
      ]
    },
    {
      "cell_type": "markdown",
      "source": [
        "2. Sustaianbility importance"
      ],
      "metadata": {
        "id": "6zyo4hI2mDY4"
      }
    },
    {
      "cell_type": "code",
      "source": [
        "age_imp = (df.groupby('35.     Quanti anni hai?')['2.     Quanto ritieni importante la questione sostenibilità sociale, ambientale ed economica? Indicalo nella scala da 1 a 10 '].value_counts())/df.groupby('35.     Quanti anni hai?')['2.     Quanto ritieni importante la questione sostenibilità sociale, ambientale ed economica? Indicalo nella scala da 1 a 10 '].count()\n",
        "print(age_imp)\n",
        "\n",
        "fig, ax = plt.subplots()\n",
        "age_imp.unstack().plot.bar(stacked = True, ax = ax)\n",
        "ax.legend(title = 'Importance of sustainability', bbox_to_anchor=(1.05, 1), loc='upper left', fontsize = 'small', fancybox = True)\n",
        "ax.set_title('Age/Importance')\n",
        "ax.set_xlabel('Age')\n",
        "ax.set_ylabel('Frequency')"
      ],
      "metadata": {
        "id": "Wtg4N-G7mCo3",
        "colab": {
          "base_uri": "https://localhost:8080/",
          "height": 661
        },
        "outputId": "4f5b4382-3bfc-48c9-acec-216407c2ae35"
      },
      "execution_count": null,
      "outputs": [
        {
          "output_type": "stream",
          "name": "stdout",
          "text": [
            "35.     Quanti anni hai?  2.     Quanto ritieni importante la questione sostenibilità sociale, ambientale ed economica? Indicalo nella scala da 1 a 10 \n",
            "18-30                     10.0                                                                                                                             0.542857\n",
            "                          8.0                                                                                                                              0.214286\n",
            "                          9.0                                                                                                                              0.128571\n",
            "                          7.0                                                                                                                              0.100000\n",
            "                          6.0                                                                                                                              0.014286\n",
            "31-43                     10.0                                                                                                                             0.608696\n",
            "                          8.0                                                                                                                              0.173913\n",
            "                          9.0                                                                                                                              0.173913\n",
            "                          6.0                                                                                                                              0.043478\n",
            "44-56                     10.0                                                                                                                             0.647059\n",
            "                          8.0                                                                                                                              0.117647\n",
            "                          9.0                                                                                                                              0.117647\n",
            "                          1.0                                                                                                                              0.058824\n",
            "                          6.0                                                                                                                              0.058824\n",
            "57-69                     10.0                                                                                                                             0.666667\n",
            "                          8.0                                                                                                                              0.250000\n",
            "                          9.0                                                                                                                              0.083333\n",
            "Name: 2.     Quanto ritieni importante la questione sostenibilità sociale, ambientale ed economica? Indicalo nella scala da 1 a 10 , dtype: float64\n"
          ]
        },
        {
          "output_type": "execute_result",
          "data": {
            "text/plain": [
              "Text(0, 0.5, 'Frequency')"
            ]
          },
          "metadata": {},
          "execution_count": 10
        },
        {
          "output_type": "display_data",
          "data": {
            "text/plain": [
              "<Figure size 432x288 with 1 Axes>"
            ],
            "image/png": "[encoded data removed]"
          },
          "metadata": {
            "needs_background": "light"
          }
        }
      ]
    },
    {
      "cell_type": "markdown",
      "source": [
        "3. Responsibility"
      ],
      "metadata": {
        "id": "G21JoyOglgCq"
      }
    },
    {
      "cell_type": "code",
      "source": [
        "age_responsibility = (df.groupby('35.     Quanti anni hai?')['3.     Credi che la responsabilità di uno sviluppo sostenibile ricada più su:'].value_counts())/df.groupby('35.     Quanti anni hai?')['3.     Credi che la responsabilità di uno sviluppo sostenibile ricada più su:'].count()\n",
        "print(age_responsibility)\n",
        "\n",
        "fig, ax = plt.subplots()\n",
        "age_responsibility.unstack().plot.bar(stacked = True, ax = ax)\n",
        "ax.legend(title = 'Actor', bbox_to_anchor=(1.05, 1), loc='upper left', fontsize = 'small', fancybox = True)\n",
        "ax.set_title('Age/Responsibility')\n",
        "ax.set_xlabel('Age')\n",
        "ax.set_ylabel('Frequency')\n"
      ],
      "metadata": {
        "id": "EFxEpPImliwJ",
        "colab": {
          "base_uri": "https://localhost:8080/",
          "height": 609
        },
        "outputId": "fb4f756e-8330-422d-80b9-6a1e54434a6b"
      },
      "execution_count": null,
      "outputs": [
        {
          "output_type": "stream",
          "name": "stdout",
          "text": [
            "35.     Quanti anni hai?  3.     Credi che la responsabilità di uno sviluppo sostenibile ricada più su:\n",
            "18-30                     Stato                                                                            0.514286\n",
            "                          Cittadino                                                                        0.242857\n",
            "                          Aziende                                                                          0.228571\n",
            "                          Nessuna delle precedenti                                                         0.014286\n",
            "31-43                     Stato                                                                            0.608696\n",
            "                          Cittadino                                                                        0.260870\n",
            "                          Aziende                                                                          0.086957\n",
            "                          Nessuna delle precedenti                                                         0.043478\n",
            "44-56                     Stato                                                                            0.588235\n",
            "                          Cittadino                                                                        0.352941\n",
            "                          Nessuna delle precedenti                                                         0.058824\n",
            "57-69                     Stato                                                                            0.600000\n",
            "                          Cittadino                                                                        0.320000\n",
            "                          Aziende                                                                          0.080000\n",
            "Name: 3.     Credi che la responsabilità di uno sviluppo sostenibile ricada più su:, dtype: float64\n"
          ]
        },
        {
          "output_type": "execute_result",
          "data": {
            "text/plain": [
              "Text(0, 0.5, 'Frequency')"
            ]
          },
          "metadata": {},
          "execution_count": 11
        },
        {
          "output_type": "display_data",
          "data": {
            "text/plain": [
              "<Figure size 432x288 with 1 Axes>"
            ],
            "image/png": "[encoded data removed]"
          },
          "metadata": {
            "needs_background": "light"
          }
        }
      ]
    },
    {
      "cell_type": "markdown",
      "source": [
        "4. Circular Economy"
      ],
      "metadata": {
        "id": "Yx8rTPiaBqWL"
      }
    },
    {
      "cell_type": "code",
      "source": [
        "age_ce = (df.groupby('35.     Quanti anni hai?')['4.     Indica quanto sei d’accordo con la seguente affermazione: “Realtà sostenibili ed incentrate sull’economia circolare sono essenziali per il raggiungimento di una realtà sostenibile”'].value_counts())/df.groupby('35.     Quanti anni hai?')['4.     Indica quanto sei d’accordo con la seguente affermazione: “Realtà sostenibili ed incentrate sull’economia circolare sono essenziali per il raggiungimento di una realtà sostenibile”'].count()\n",
        "print(age_ce)\n",
        "\n",
        "fig, ax = plt.subplots()\n",
        "age_ce.unstack().plot.bar(stacked = True, ax = ax)\n",
        "ax.legend(title = 'Circular Economy', bbox_to_anchor=(1.05, 1), loc='upper left', fontsize = 'small', fancybox = True)\n",
        "ax.set_title('Age/Circular Economy')\n",
        "ax.set_xlabel('Age')\n",
        "ax.set_ylabel('Frequency')"
      ],
      "metadata": {
        "id": "7ScppmYdy-Wc",
        "colab": {
          "base_uri": "https://localhost:8080/",
          "height": 612
        },
        "outputId": "37b17405-a56f-4ceb-9005-d497038b3003"
      },
      "execution_count": null,
      "outputs": [
        {
          "output_type": "stream",
          "name": "stdout",
          "text": [
            "35.     Quanti anni hai?  4.     Indica quanto sei d’accordo con la seguente affermazione: “Realtà sostenibili ed incentrate sull’economia circolare sono essenziali per il raggiungimento di una realtà sostenibile”\n",
            "18-30                     D’accordo                                                                                                                                                                                      0.514286\n",
            "                          Molto d’accordo                                                                                                                                                                                0.357143\n",
            "                          Indifferente                                                                                                                                                                                   0.114286\n",
            "                          In disaccordo                                                                                                                                                                                  0.014286\n",
            "31-43                     D’accordo                                                                                                                                                                                      0.608696\n",
            "                          Molto d’accordo                                                                                                                                                                                0.347826\n",
            "                          Indifferente                                                                                                                                                                                   0.043478\n",
            "44-56                     D’accordo                                                                                                                                                                                      0.647059\n",
            "                          Molto d’accordo                                                                                                                                                                                0.294118\n",
            "                          In disaccordo                                                                                                                                                                                  0.058824\n",
            "57-69                     Molto d’accordo                                                                                                                                                                                0.600000\n",
            "                          D’accordo                                                                                                                                                                                      0.360000\n",
            "                          Indifferente                                                                                                                                                                                   0.040000\n",
            "Name: 4.     Indica quanto sei d’accordo con la seguente affermazione: “Realtà sostenibili ed incentrate sull’economia circolare sono essenziali per il raggiungimento di una realtà sostenibile”, dtype: float64\n"
          ]
        },
        {
          "output_type": "execute_result",
          "data": {
            "text/plain": [
              "Text(0, 0.5, 'Frequency')"
            ]
          },
          "metadata": {},
          "execution_count": 12
        },
        {
          "output_type": "display_data",
          "data": {
            "text/plain": [
              "<Figure size 432x288 with 1 Axes>"
            ],
            "image/png": "[encoded data removed]"
          },
          "metadata": {
            "needs_background": "light"
          }
        }
      ]
    },
    {
      "cell_type": "markdown",
      "source": [
        "5. Involvement"
      ],
      "metadata": {
        "id": "C4mPjK8OBsqZ"
      }
    },
    {
      "cell_type": "code",
      "source": [
        "age_sus = (df.groupby('35.     Quanti anni hai?')['5.     Vorresti essere più coinvolto nelle decisioni statali riguardanti normative sulla sostenibilità?'].value_counts())/df.groupby('35.     Quanti anni hai?')['5.     Vorresti essere più coinvolto nelle decisioni statali riguardanti normative sulla sostenibilità?'].count()\n",
        "print(age_sus)\n",
        "\n",
        "fig, ax = plt.subplots()\n",
        "age_sus.unstack().plot.bar(stacked = True, ax = ax)\n",
        "ax.legend(title = 'Involvement', bbox_to_anchor=(1.05, 1), loc='upper left', fontsize = 'small', fancybox = True)\n",
        "ax.set_title('Age/Involvement')\n",
        "ax.set_xlabel('Age')\n",
        "ax.set_ylabel('Frequency')"
      ],
      "metadata": {
        "id": "9o0drt6E8ZMv",
        "colab": {
          "base_uri": "https://localhost:8080/",
          "height": 505
        },
        "outputId": "4dee2263-2cae-43bd-c51c-86a00a94c2ab"
      },
      "execution_count": null,
      "outputs": [
        {
          "output_type": "stream",
          "name": "stdout",
          "text": [
            "35.     Quanti anni hai?  5.     Vorresti essere più coinvolto nelle decisioni statali riguardanti normative sulla sostenibilità?\n",
            "18-30                     Sì                                                                                                         0.885714\n",
            "                          No                                                                                                         0.114286\n",
            "31-43                     Sì                                                                                                         0.956522\n",
            "                          No                                                                                                         0.043478\n",
            "44-56                     Sì                                                                                                         0.882353\n",
            "                          No                                                                                                         0.117647\n",
            "57-69                     Sì                                                                                                         0.920000\n",
            "                          No                                                                                                         0.080000\n",
            "Name: 5.     Vorresti essere più coinvolto nelle decisioni statali riguardanti normative sulla sostenibilità?, dtype: float64\n"
          ]
        },
        {
          "output_type": "execute_result",
          "data": {
            "text/plain": [
              "Text(0, 0.5, 'Frequency')"
            ]
          },
          "metadata": {},
          "execution_count": 13
        },
        {
          "output_type": "display_data",
          "data": {
            "text/plain": [
              "<Figure size 432x288 with 1 Axes>"
            ],
            "image/png": "[encoded data removed]"
          },
          "metadata": {
            "needs_background": "light"
          }
        }
      ]
    },
    {
      "cell_type": "markdown",
      "source": [
        "8. Natural Resources"
      ],
      "metadata": {
        "id": "0TCbTCj_Bv_a"
      }
    },
    {
      "cell_type": "code",
      "source": [
        "age_res = (df.groupby('35.     Quanti anni hai?')['8.     Pensi sia possibile essere in grado di gestire e sfruttare le risorse naturali entro il 2030 (riduzione dell\\'utilizzo delle risorse non sostenibili ed aumento di quelle sostenibili)?'].value_counts())/df.groupby('35.     Quanti anni hai?')['8.     Pensi sia possibile essere in grado di gestire e sfruttare le risorse naturali entro il 2030 (riduzione dell\\'utilizzo delle risorse non sostenibili ed aumento di quelle sostenibili)?'].count()\n",
        "print(age_res)\n",
        "\n",
        "fig, ax = plt.subplots()\n",
        "age_res.unstack().plot.bar(stacked = True, ax = ax)\n",
        "ax.legend(title = 'Natural Resources', bbox_to_anchor=(1.05, 1), loc='upper left', fontsize = 'small', fancybox = True)\n",
        "ax.set_title('Age/Resources')\n",
        "ax.set_xlabel('Age')\n",
        "ax.set_ylabel('Frequency')"
      ],
      "metadata": {
        "id": "KnQV6nxn-dCC",
        "colab": {
          "base_uri": "https://localhost:8080/",
          "height": 594
        },
        "outputId": "1f02bfa7-942a-47de-b2f6-8958db8150cd"
      },
      "execution_count": null,
      "outputs": [
        {
          "output_type": "stream",
          "name": "stdout",
          "text": [
            "35.     Quanti anni hai?  8.     Pensi sia possibile essere in grado di gestire e sfruttare le risorse naturali entro il 2030 (riduzione dell'utilizzo delle risorse non sostenibili ed aumento di quelle sostenibili)?\n",
            "18-30                     Non so                                                                                                                                                                                           0.471429\n",
            "                          Sì                                                                                                                                                                                               0.285714\n",
            "                          No                                                                                                                                                                                               0.242857\n",
            "31-43                     Sì                                                                                                                                                                                               0.478261\n",
            "                          Non so                                                                                                                                                                                           0.434783\n",
            "                          No                                                                                                                                                                                               0.086957\n",
            "44-56                     Sì                                                                                                                                                                                               0.411765\n",
            "                          No                                                                                                                                                                                               0.294118\n",
            "                          Non so                                                                                                                                                                                           0.294118\n",
            "57-69                     Non so                                                                                                                                                                                           0.440000\n",
            "                          No                                                                                                                                                                                               0.280000\n",
            "                          Sì                                                                                                                                                                                               0.280000\n",
            "Name: 8.     Pensi sia possibile essere in grado di gestire e sfruttare le risorse naturali entro il 2030 (riduzione dell'utilizzo delle risorse non sostenibili ed aumento di quelle sostenibili)?, dtype: float64\n"
          ]
        },
        {
          "output_type": "execute_result",
          "data": {
            "text/plain": [
              "Text(0, 0.5, 'Frequency')"
            ]
          },
          "metadata": {},
          "execution_count": 14
        },
        {
          "output_type": "display_data",
          "data": {
            "text/plain": [
              "<Figure size 432x288 with 1 Axes>"
            ],
            "image/png": "[encoded data removed]"
          },
          "metadata": {
            "needs_background": "light"
          }
        }
      ]
    },
    {
      "cell_type": "markdown",
      "source": [
        "9. Multinationals"
      ],
      "metadata": {
        "id": "R8rjXm2tpDpl"
      }
    },
    {
      "cell_type": "code",
      "source": [
        "age_multi = (df.groupby('35.     Quanti anni hai?')['9.     Indica quando sei d’accordo con la seguente affermazione: “penso che l’impegno delle multinazionali nell’adozione di pratiche sostenibili e nella sensibilizzazione in campo sostenibile sia essenziale”'].value_counts())/df.groupby('35.     Quanti anni hai?')['9.     Indica quando sei d’accordo con la seguente affermazione: “penso che l’impegno delle multinazionali nell’adozione di pratiche sostenibili e nella sensibilizzazione in campo sostenibile sia essenziale”'].count()\n",
        "print(age_multi)\n",
        "\n",
        "fig, ax = plt.subplots()\n",
        "age_multi.unstack().plot.bar(stacked = True, ax = ax)\n",
        "ax.legend(title = 'Multinationals Involvement', bbox_to_anchor=(1.05, 1), loc='upper left', fontsize = 'small', fancybox = True)\n",
        "ax.set_title('Age/Multinationals')\n",
        "ax.set_xlabel('Age')\n",
        "ax.set_ylabel('Frequency')"
      ],
      "metadata": {
        "id": "Q1-0xaFmpF7s",
        "colab": {
          "base_uri": "https://localhost:8080/",
          "height": 594
        },
        "outputId": "d50db7a0-cea2-4982-b405-a365fe3bb72f"
      },
      "execution_count": null,
      "outputs": [
        {
          "output_type": "stream",
          "name": "stdout",
          "text": [
            "35.     Quanti anni hai?  9.     Indica quando sei d’accordo con la seguente affermazione: “penso che l’impegno delle multinazionali nell’adozione di pratiche sostenibili e nella sensibilizzazione in campo sostenibile sia essenziale”\n",
            "18-30                     Molto d’accordo                                                                                                                                                                                                    0.571429\n",
            "                          D’accordo                                                                                                                                                                                                          0.400000\n",
            "                          In disaccordo                                                                                                                                                                                                      0.014286\n",
            "                          Indifferente                                                                                                                                                                                                       0.014286\n",
            "31-43                     Molto d’accordo                                                                                                                                                                                                    0.782609\n",
            "                          D’accordo                                                                                                                                                                                                          0.217391\n",
            "44-56                     Molto d’accordo                                                                                                                                                                                                    0.470588\n",
            "                          D’accordo                                                                                                                                                                                                          0.411765\n",
            "                          Indifferente                                                                                                                                                                                                       0.058824\n",
            "                          Molto in disaccordo                                                                                                                                                                                                0.058824\n",
            "57-69                     Molto d’accordo                                                                                                                                                                                                    0.720000\n",
            "                          D’accordo                                                                                                                                                                                                          0.280000\n",
            "Name: 9.     Indica quando sei d’accordo con la seguente affermazione: “penso che l’impegno delle multinazionali nell’adozione di pratiche sostenibili e nella sensibilizzazione in campo sostenibile sia essenziale”, dtype: float64\n"
          ]
        },
        {
          "output_type": "execute_result",
          "data": {
            "text/plain": [
              "Text(0, 0.5, 'Frequency')"
            ]
          },
          "metadata": {},
          "execution_count": 15
        },
        {
          "output_type": "display_data",
          "data": {
            "text/plain": [
              "<Figure size 432x288 with 1 Axes>"
            ],
            "image/png": "[encoded data removed]"
          },
          "metadata": {
            "needs_background": "light"
          }
        }
      ]
    },
    {
      "cell_type": "markdown",
      "source": [
        "10. Wastes"
      ],
      "metadata": {
        "id": "QWTFu_JPBzyq"
      }
    },
    {
      "cell_type": "code",
      "source": [
        "age_waste = (df.groupby('35.     Quanti anni hai?')['10.     Pensi sia possibile ridurre in maniera sostanziale la produzione di rifiuti entro il 2030?'].value_counts())/df.groupby('35.     Quanti anni hai?')['10.     Pensi sia possibile ridurre in maniera sostanziale la produzione di rifiuti entro il 2030?'].count()\n",
        "print(age_waste)\n",
        "\n",
        "fig, ax = plt.subplots()\n",
        "age_waste.unstack().plot.bar(stacked = True, ax = ax)\n",
        "ax.legend(title = 'Wastes', bbox_to_anchor=(1.05, 1), loc='upper left', fontsize = 'small', fancybox = True)\n",
        "ax.set_title('Age/Wastes')\n",
        "ax.set_xlabel('Age')\n",
        "ax.set_ylabel('Frequency')"
      ],
      "metadata": {
        "id": "1i9fmrk1A-sX",
        "colab": {
          "base_uri": "https://localhost:8080/",
          "height": 505
        },
        "outputId": "db6f9034-3836-45fa-d405-acf587c3e1bb"
      },
      "execution_count": null,
      "outputs": [
        {
          "output_type": "stream",
          "name": "stdout",
          "text": [
            "35.     Quanti anni hai?  10.     Pensi sia possibile ridurre in maniera sostanziale la produzione di rifiuti entro il 2030?\n",
            "18-30                     No                                                                                                    0.542857\n",
            "                          Sì                                                                                                    0.457143\n",
            "31-43                     Sì                                                                                                    0.782609\n",
            "                          No                                                                                                    0.217391\n",
            "44-56                     Sì                                                                                                    0.529412\n",
            "                          No                                                                                                    0.470588\n",
            "57-69                     Sì                                                                                                    0.800000\n",
            "                          No                                                                                                    0.200000\n",
            "Name: 10.     Pensi sia possibile ridurre in maniera sostanziale la produzione di rifiuti entro il 2030?, dtype: float64\n"
          ]
        },
        {
          "output_type": "execute_result",
          "data": {
            "text/plain": [
              "Text(0, 0.5, 'Frequency')"
            ]
          },
          "metadata": {},
          "execution_count": 16
        },
        {
          "output_type": "display_data",
          "data": {
            "text/plain": [
              "<Figure size 432x288 with 1 Axes>"
            ],
            "image/png": "[encoded data removed]"
          },
          "metadata": {
            "needs_background": "light"
          }
        }
      ]
    },
    {
      "cell_type": "markdown",
      "source": [
        "11. Waste importance"
      ],
      "metadata": {
        "id": "L8OPNLKGpfM0"
      }
    },
    {
      "cell_type": "code",
      "source": [
        "age_waste_imp = (df.groupby('35.     Quanti anni hai?')['11.     Quanto è importante per te la riduzione dello spreco di alimenti nel raggiungimento di una società sostenibile?'].value_counts())/df.groupby('35.     Quanti anni hai?')['11.     Quanto è importante per te la riduzione dello spreco di alimenti nel raggiungimento di una società sostenibile?'].count()\n",
        "print(age_waste_imp)\n",
        "\n",
        "fig, ax = plt.subplots()\n",
        "age_waste_imp.unstack().plot.bar(stacked = True, ax = ax)\n",
        "ax.legend(title = 'Wastes', bbox_to_anchor=(1.05, 1), loc='upper left', fontsize = 'small', fancybox = True)\n",
        "ax.set_title('Age/Wastes')\n",
        "ax.set_xlabel('Age')\n",
        "ax.set_ylabel('Frequency')"
      ],
      "metadata": {
        "id": "ocuu0BRypiUw",
        "colab": {
          "base_uri": "https://localhost:8080/",
          "height": 678
        },
        "outputId": "015dbddf-8f73-44b4-c561-d28cb2a316a3"
      },
      "execution_count": null,
      "outputs": [
        {
          "output_type": "stream",
          "name": "stdout",
          "text": [
            "35.     Quanti anni hai?  11.     Quanto è importante per te la riduzione dello spreco di alimenti nel raggiungimento di una società sostenibile?\n",
            "18-30                     10.0                                                                                                                       0.414286\n",
            "                          8.0                                                                                                                        0.257143\n",
            "                          7.0                                                                                                                        0.128571\n",
            "                          9.0                                                                                                                        0.128571\n",
            "                          6.0                                                                                                                        0.057143\n",
            "                          3.0                                                                                                                        0.014286\n",
            "31-43                     10.0                                                                                                                       0.608696\n",
            "                          8.0                                                                                                                        0.173913\n",
            "                          9.0                                                                                                                        0.130435\n",
            "                          6.0                                                                                                                        0.043478\n",
            "                          7.0                                                                                                                        0.043478\n",
            "44-56                     10.0                                                                                                                       0.764706\n",
            "                          8.0                                                                                                                        0.117647\n",
            "                          3.0                                                                                                                        0.058824\n",
            "                          9.0                                                                                                                        0.058824\n",
            "57-69                     10.0                                                                                                                       0.800000\n",
            "                          8.0                                                                                                                        0.160000\n",
            "                          9.0                                                                                                                        0.040000\n",
            "Name: 11.     Quanto è importante per te la riduzione dello spreco di alimenti nel raggiungimento di una società sostenibile?, dtype: float64\n"
          ]
        },
        {
          "output_type": "execute_result",
          "data": {
            "text/plain": [
              "Text(0, 0.5, 'Frequency')"
            ]
          },
          "metadata": {},
          "execution_count": 17
        },
        {
          "output_type": "display_data",
          "data": {
            "text/plain": [
              "<Figure size 432x288 with 1 Axes>"
            ],
            "image/png": "[encoded data removed]"
          },
          "metadata": {
            "needs_background": "light"
          }
        }
      ]
    },
    {
      "cell_type": "markdown",
      "source": [
        "13. Small companies"
      ],
      "metadata": {
        "id": "qxgiKG_4B2Ur"
      }
    },
    {
      "cell_type": "code",
      "source": [
        "age_com = (df.groupby('35.     Quanti anni hai?')['13.     Indica quanto sei d’accordo con la seguente affermazione: “è importante valorizzare e sostenere le piccole imprese di produzione alimentare (agricola e non)”'].value_counts())/df.groupby('35.     Quanti anni hai?')['13.     Indica quanto sei d’accordo con la seguente affermazione: “è importante valorizzare e sostenere le piccole imprese di produzione alimentare (agricola e non)”'].count()\n",
        "print(age_com)\n",
        "\n",
        "fig, ax = plt.subplots()\n",
        "age_com.unstack().plot.bar(stacked = True, ax = ax)\n",
        "ax.legend(title = 'Small Companies Support', bbox_to_anchor=(1.05, 1), loc='upper left', fontsize = 'small', fancybox = True)\n",
        "ax.set_title('Age/Companies')\n",
        "ax.set_xlabel('Age')\n",
        "ax.set_ylabel('Frequency')"
      ],
      "metadata": {
        "id": "7-SDif-5B-p6",
        "colab": {
          "base_uri": "https://localhost:8080/",
          "height": 778
        },
        "outputId": "f0e50621-da7c-4e6b-b8c7-a2d75b2d2cd2"
      },
      "execution_count": null,
      "outputs": [
        {
          "output_type": "stream",
          "name": "stdout",
          "text": [
            "35.     Quanti anni hai?  13.     Indica quanto sei d’accordo con la seguente affermazione: “è importante valorizzare e sostenere le piccole imprese di produzione alimentare (agricola e non)”\n",
            "18-30                     D’accordo                                                                                                                                                                0.514286\n",
            "                          Molto d’accordo                                                                                                                                                          0.371429\n",
            "                          Indifferente                                                                                                                                                             0.085714\n",
            "                          In disaccordo                                                                                                                                                            0.028571\n",
            "31-43                     Molto d’accordo                                                                                                                                                          0.521739\n",
            "                          D’accordo                                                                                                                                                                0.434783\n",
            "                          Indifferente                                                                                                                                                             0.043478\n",
            "44-56                     D’accordo                                                                                                                                                                0.470588\n",
            "                          Molto d’accordo                                                                                                                                                          0.411765\n",
            "                          Indifferente                                                                                                                                                             0.117647\n",
            "57-69                     Molto d’accordo                                                                                                                                                          0.720000\n",
            "                          D’accordo                                                                                                                                                                0.280000\n",
            "Name: 13.     Indica quanto sei d’accordo con la seguente affermazione: “è importante valorizzare e sostenere le piccole imprese di produzione alimentare (agricola e non)”, dtype: float64\n"
          ]
        },
        {
          "output_type": "execute_result",
          "data": {
            "text/plain": [
              "Text(0, 0.5, 'Frequency')"
            ]
          },
          "metadata": {},
          "execution_count": 10
        },
        {
          "output_type": "display_data",
          "data": {
            "text/plain": [
              "<Figure size 640x480 with 1 Axes>"
            ],
            "image/png": "[encoded data removed]"
          },
          "metadata": {}
        }
      ]
    },
    {
      "cell_type": "markdown",
      "source": [
        "14. Agricultural Technologies"
      ],
      "metadata": {
        "id": "H1j-rCh9CW2y"
      }
    },
    {
      "cell_type": "code",
      "source": [
        "age_agri = (df.groupby('35.     Quanti anni hai?')['14.     Quanto è importante per te l’implementazione di tecniche agricole che incrementino: la produzione per ettaro, la resilienza dell’ecosistema a disastri ecologici e la qualità dei terreni?'].value_counts())/df.groupby('35.     Quanti anni hai?')['14.     Quanto è importante per te l’implementazione di tecniche agricole che incrementino: la produzione per ettaro, la resilienza dell’ecosistema a disastri ecologici e la qualità dei terreni?'].count()\n",
        "print(age_agri)\n",
        "\n",
        "fig, ax = plt.subplots()\n",
        "age_agri.unstack().plot.bar(stacked = True, ax = ax)\n",
        "ax.legend(title = 'Agricultural Tech', bbox_to_anchor=(1.05, 1), loc='upper left', fontsize = 'small', fancybox = True)\n",
        "ax.set_title('Age/Agri-Tech')\n",
        "ax.set_xlabel('Age')\n",
        "ax.set_ylabel('Frequency')"
      ],
      "metadata": {
        "id": "34Zeey6iCcN7",
        "colab": {
          "base_uri": "https://localhost:8080/",
          "height": 646
        },
        "outputId": "fd81124a-ef6b-45ec-de51-714fda9c3a33"
      },
      "execution_count": null,
      "outputs": [
        {
          "output_type": "stream",
          "name": "stdout",
          "text": [
            "35.     Quanti anni hai?  14.     Quanto è importante per te l’implementazione di tecniche agricole che incrementino: la produzione per ettaro, la resilienza dell’ecosistema a disastri ecologici e la qualità dei terreni?\n",
            "18-30                     Importante                                                                                                                                                                                            0.414286\n",
            "                          Molto importante                                                                                                                                                                                      0.342857\n",
            "                          Indifferente                                                                                                                                                                                          0.171429\n",
            "                          Poco                                                                                                                                                                                                  0.057143\n",
            "                          Molto poco                                                                                                                                                                                            0.014286\n",
            "31-43                     Importante                                                                                                                                                                                            0.652174\n",
            "                          Molto importante                                                                                                                                                                                      0.260870\n",
            "                          Molto poco                                                                                                                                                                                            0.086957\n",
            "44-56                     Molto importante                                                                                                                                                                                      0.411765\n",
            "                          Importante                                                                                                                                                                                            0.294118\n",
            "                          Poco                                                                                                                                                                                                  0.235294\n",
            "                          Indifferente                                                                                                                                                                                          0.058824\n",
            "57-69                     Molto importante                                                                                                                                                                                      0.480000\n",
            "                          Importante                                                                                                                                                                                            0.440000\n",
            "                          Poco                                                                                                                                                                                                  0.080000\n",
            "Name: 14.     Quanto è importante per te l’implementazione di tecniche agricole che incrementino: la produzione per ettaro, la resilienza dell’ecosistema a disastri ecologici e la qualità dei terreni?, dtype: float64\n"
          ]
        },
        {
          "output_type": "execute_result",
          "data": {
            "text/plain": [
              "Text(0, 0.5, 'Frequency')"
            ]
          },
          "metadata": {},
          "execution_count": 19
        },
        {
          "output_type": "display_data",
          "data": {
            "text/plain": [
              "<Figure size 432x288 with 1 Axes>"
            ],
            "image/png": "[encoded data removed]"
          },
          "metadata": {
            "needs_background": "light"
          }
        }
      ]
    },
    {
      "cell_type": "markdown",
      "source": [
        "# Age Buying Behavior\n"
      ],
      "metadata": {
        "id": "CoWOKANWlI0u"
      }
    },
    {
      "cell_type": "markdown",
      "source": [
        "15. Sustainability of product importance"
      ],
      "metadata": {
        "id": "jp3hR82tlMlY"
      }
    },
    {
      "cell_type": "code",
      "source": [
        "age_market_imp = (df.groupby('35.     Quanti anni hai?')['15.     Quando vai al supermercato quanto spesso pensi alla sostenibilità dei prodotti che acquisti?'].value_counts())/df.groupby('35.     Quanti anni hai?')['15.     Quando vai al supermercato quanto spesso pensi alla sostenibilità dei prodotti che acquisti?'].count()\n",
        "print(age_market_imp)\n",
        "\n",
        "fig, ax = plt.subplots()\n",
        "age_market_imp.unstack().plot.bar(stacked = True, ax = ax)\n",
        "ax.legend(title = 'Sustainability of products', bbox_to_anchor=(1.05, 1), loc='upper left', fontsize = 'small', fancybox = True)\n",
        "ax.set_title('Age/Thought')\n",
        "ax.set_xlabel('Age')\n",
        "ax.set_ylabel('Frequency')"
      ],
      "metadata": {
        "id": "Er_poldnrGgO",
        "colab": {
          "base_uri": "https://localhost:8080/",
          "height": 644
        },
        "outputId": "868205e1-7565-4bae-9222-4296c91c2ad4"
      },
      "execution_count": null,
      "outputs": [
        {
          "output_type": "stream",
          "name": "stdout",
          "text": [
            "35.     Quanti anni hai?  15.     Quando vai al supermercato quanto spesso pensi alla sostenibilità dei prodotti che acquisti?\n",
            "18-30                     Ogni tanto                                                                                              0.371429\n",
            "                          Spesso                                                                                                  0.357143\n",
            "                          Raramente                                                                                               0.142857\n",
            "                          Sempre                                                                                                  0.071429\n",
            "                          Mai                                                                                                     0.057143\n",
            "31-43                     Spesso                                                                                                  0.434783\n",
            "                          Ogni tanto                                                                                              0.391304\n",
            "                          Sempre                                                                                                  0.173913\n",
            "44-56                     Spesso                                                                                                  0.705882\n",
            "                          Raramente                                                                                               0.176471\n",
            "                          Ogni tanto                                                                                              0.117647\n",
            "57-69                     Spesso                                                                                                  0.640000\n",
            "                          Ogni tanto                                                                                              0.120000\n",
            "                          Sempre                                                                                                  0.120000\n",
            "                          Raramente                                                                                               0.080000\n",
            "                          Mai                                                                                                     0.040000\n",
            "Name: 15.     Quando vai al supermercato quanto spesso pensi alla sostenibilità dei prodotti che acquisti?, dtype: float64\n"
          ]
        },
        {
          "output_type": "execute_result",
          "data": {
            "text/plain": [
              "Text(0, 0.5, 'Frequency')"
            ]
          },
          "metadata": {},
          "execution_count": 10
        },
        {
          "output_type": "display_data",
          "data": {
            "text/plain": [
              "<Figure size 432x288 with 1 Axes>"
            ],
            "image/png": "[encoded data removed]"
          },
          "metadata": {
            "needs_background": "light"
          }
        }
      ]
    },
    {
      "cell_type": "markdown",
      "source": [
        "17. Motif"
      ],
      "metadata": {
        "id": "c7m_JI2UruGk"
      }
    },
    {
      "cell_type": "code",
      "source": [
        "age_motif = (df.groupby('35.     Quanti anni hai?')['17.     Qual è il motivo per cui acquisti prodotti sostenibili?'].value_counts())/df.groupby('35.     Quanti anni hai?')['17.     Qual è il motivo per cui acquisti prodotti sostenibili?'].count()\n",
        "print(age_motif)\n",
        "\n",
        "fig, ax = plt.subplots()\n",
        "age_motif.unstack().plot.bar(stacked = True, ax = ax)\n",
        "ax.legend(title = 'Motivation', bbox_to_anchor=(1.05, 1), loc='upper left', fontsize = 'small', fancybox = True)\n",
        "ax.set_title('Age/Motivation')\n",
        "ax.set_xlabel('Age')\n",
        "ax.set_ylabel('Frequency')"
      ],
      "metadata": {
        "id": "zg3b85LhrxP6",
        "colab": {
          "base_uri": "https://localhost:8080/",
          "height": 678
        },
        "outputId": "9fae5869-9ce3-4d17-c0ac-c12baf0f4e4f"
      },
      "execution_count": null,
      "outputs": [
        {
          "output_type": "stream",
          "name": "stdout",
          "text": [
            "35.     Quanti anni hai?  17.     Qual è il motivo per cui acquisti prodotti sostenibili?\n",
            "18-30                     La sostenibilità ambientale                                        0.342857\n",
            "                          Tutte le precedenti                                                0.314286\n",
            "                          La qualità dei prodotti venduti                                    0.300000\n",
            "                          La sostenibilità sociale                                           0.028571\n",
            "                          La vicinanza del negozio sostenibile a casa                        0.014286\n",
            "31-43                     Tutte le precedenti                                                0.434783\n",
            "                          La sostenibilità ambientale                                        0.304348\n",
            "                          La qualità dei prodotti venduti                                    0.173913\n",
            "                          La sostenibilità sociale                                           0.086957\n",
            "44-56                     Tutte le precedenti                                                0.352941\n",
            "                          La qualità dei prodotti venduti                                    0.235294\n",
            "                          La sostenibilità ambientale                                        0.235294\n",
            "                          La sostenibilità sociale                                           0.176471\n",
            "57-69                     Tutte le precedenti                                                0.375000\n",
            "                          La sostenibilità ambientale                                        0.291667\n",
            "                          La qualità dei prodotti venduti                                    0.208333\n",
            "                          La sostenibilità sociale                                           0.083333\n",
            "                          La vicinanza del negozio sostenibile a casa                        0.041667\n",
            "Name: 17.     Qual è il motivo per cui acquisti prodotti sostenibili?, dtype: float64\n"
          ]
        },
        {
          "output_type": "execute_result",
          "data": {
            "text/plain": [
              "Text(0, 0.5, 'Frequency')"
            ]
          },
          "metadata": {},
          "execution_count": 11
        },
        {
          "output_type": "display_data",
          "data": {
            "text/plain": [
              "<Figure size 432x288 with 1 Axes>"
            ],
            "image/png": "[encoded data removed]"
          },
          "metadata": {
            "needs_background": "light"
          }
        }
      ]
    },
    {
      "cell_type": "markdown",
      "source": [
        "18. Importance Scale"
      ],
      "metadata": {
        "id": "KPa9N-rosDFc"
      }
    },
    {
      "cell_type": "code",
      "source": [
        "age_imp_scale = (df.groupby('35.     Quanti anni hai?')['18.     In una scala da 1 a 10 indica quanto è importante l’ecosostenibilità dei prodotti acquistati'].value_counts())/df.groupby('35.     Quanti anni hai?')['18.     In una scala da 1 a 10 indica quanto è importante l’ecosostenibilità dei prodotti acquistati'].count()\n",
        "print(age_imp_scale)\n",
        "\n",
        "fig, ax = plt.subplots()\n",
        "age_imp_scale.unstack().plot.bar(stacked = True, ax = ax)\n",
        "ax.legend(title = 'Importance Scale', bbox_to_anchor=(1.05, 1), loc='upper left', fontsize = 'small', fancybox = True)\n",
        "ax.set_title('Age/Importance')\n",
        "ax.set_xlabel('Age')\n",
        "ax.set_ylabel('Frequency')"
      ],
      "metadata": {
        "id": "aK8MpP1tsGaT",
        "colab": {
          "base_uri": "https://localhost:8080/",
          "height": 748
        },
        "outputId": "e9a71701-d52e-4397-94ac-2ea4ff12e08c"
      },
      "execution_count": null,
      "outputs": [
        {
          "output_type": "stream",
          "name": "stdout",
          "text": [
            "35.     Quanti anni hai?  18.     In una scala da 1 a 10 indica quanto è importante l’ecosostenibilità dei prodotti acquistati\n",
            "18-30                     8.0                                                                                                     0.371429\n",
            "                          7.0                                                                                                     0.228571\n",
            "                          10.0                                                                                                    0.171429\n",
            "                          9.0                                                                                                     0.114286\n",
            "                          6.0                                                                                                     0.071429\n",
            "                          5.0                                                                                                     0.028571\n",
            "                          3.0                                                                                                     0.014286\n",
            "31-43                     10.0                                                                                                    0.347826\n",
            "                          9.0                                                                                                     0.260870\n",
            "                          8.0                                                                                                     0.217391\n",
            "                          7.0                                                                                                     0.130435\n",
            "                          6.0                                                                                                     0.043478\n",
            "44-56                     8.0                                                                                                     0.352941\n",
            "                          10.0                                                                                                    0.352941\n",
            "                          9.0                                                                                                     0.176471\n",
            "                          2.0                                                                                                     0.058824\n",
            "                          3.0                                                                                                     0.058824\n",
            "57-69                     8.0                                                                                                     0.360000\n",
            "                          10.0                                                                                                    0.360000\n",
            "                          7.0                                                                                                     0.200000\n",
            "                          1.0                                                                                                     0.040000\n",
            "                          6.0                                                                                                     0.040000\n",
            "Name: 18.     In una scala da 1 a 10 indica quanto è importante l’ecosostenibilità dei prodotti acquistati, dtype: float64\n"
          ]
        },
        {
          "output_type": "execute_result",
          "data": {
            "text/plain": [
              "Text(0, 0.5, 'Frequency')"
            ]
          },
          "metadata": {},
          "execution_count": 15
        },
        {
          "output_type": "display_data",
          "data": {
            "text/plain": [
              "<Figure size 432x288 with 1 Axes>"
            ],
            "image/png": "[encoded data removed]"
          },
          "metadata": {
            "needs_background": "light"
          }
        }
      ]
    },
    {
      "cell_type": "markdown",
      "source": [
        "19. Aestetichs"
      ],
      "metadata": {
        "id": "2Ls5Um3psY6X"
      }
    },
    {
      "cell_type": "code",
      "source": [
        "age_ae = (df.groupby('35.     Quanti anni hai?')['19.     In una scala da uno a 10 indica quanto è importante l’estetica dei prodotti venduti'].value_counts())/df.groupby('35.     Quanti anni hai?')['19.     In una scala da uno a 10 indica quanto è importante l’estetica dei prodotti venduti'].count()\n",
        "print(age_ae)\n",
        "\n",
        "fig, ax = plt.subplots()\n",
        "age_ae.unstack().plot.bar(stacked = True, ax = ax)\n",
        "ax.legend(title = 'Aesthetics', bbox_to_anchor=(1.05, 1), loc='upper left', fontsize = 'small', fancybox = True)\n",
        "ax.set_title('Age/Aesthetics')\n",
        "ax.set_xlabel('Age')\n",
        "ax.set_ylabel('Frequency')"
      ],
      "metadata": {
        "id": "Js88PPVDsdZS"
      },
      "execution_count": null,
      "outputs": []
    },
    {
      "cell_type": "markdown",
      "source": [
        "20. Satisfaction"
      ],
      "metadata": {
        "id": "E2o15yYvs000"
      }
    },
    {
      "cell_type": "code",
      "source": [
        "age_sati = (df.groupby('35.     Quanti anni hai?')['20.     Sei soddisfatt* dai prodotti sostenibili presenti al supermercato?'].value_counts())/df.groupby('35.     Quanti anni hai?')['20.     Sei soddisfatt* dai prodotti sostenibili presenti al supermercato?'].count()\n",
        "print(age_sati)\n",
        "\n",
        "fig, ax = plt.subplots()\n",
        "age_sati.unstack().plot.bar(stacked = True, ax = ax)\n",
        "ax.legend(title = 'Satisfaction', bbox_to_anchor=(1.05, 1), loc='upper left', fontsize = 'small', fancybox = True)\n",
        "ax.set_title('Age/Satisfaction')\n",
        "ax.set_xlabel('Age')\n",
        "ax.set_ylabel('Frequency')"
      ],
      "metadata": {
        "id": "a31dezD-s3xI"
      },
      "execution_count": null,
      "outputs": []
    },
    {
      "cell_type": "markdown",
      "source": [
        "24. Transparency"
      ],
      "metadata": {
        "id": "JidZ3MVStXlW"
      }
    },
    {
      "cell_type": "code",
      "source": [
        "age_tra = (df.groupby('35.     Quanti anni hai?')['24.     Indica quanto sei d’accordo con la seguente affermazione “La trasparenza riguardo ai prodotti sostenibili è essenziale (provenienza, produttore, sostenibilità)”'].value_counts())/df.groupby('35.     Quanti anni hai?')['24.     Indica quanto sei d’accordo con la seguente affermazione “La trasparenza riguardo ai prodotti sostenibili è essenziale (provenienza, produttore, sostenibilità)”'].count()\n",
        "print(age_tra)\n",
        "\n",
        "fig, ax = plt.subplots()\n",
        "age_tra.unstack().plot.bar(stacked = True, ax = ax)\n",
        "ax.legend(title = 'Importance of transparency', bbox_to_anchor=(1.05, 1), loc='upper left', fontsize = 'small', fancybox = True)\n",
        "ax.set_title('Age/Importance of transparency')\n",
        "ax.set_xlabel('Age')\n",
        "ax.set_ylabel('Frequency')"
      ],
      "metadata": {
        "id": "Lcjrd6QttafP"
      },
      "execution_count": null,
      "outputs": []
    },
    {
      "cell_type": "markdown",
      "source": [
        "25. Effective Transparency"
      ],
      "metadata": {
        "id": "2R8MyudTuSUv"
      }
    },
    {
      "cell_type": "code",
      "source": [
        "age_imp_tra = (df.groupby('35.     Quanti anni hai?')['25.     Indica quanto sei d’accordo con la seguente affermazione “I negozi sostenibili sono trasparenti riguardo alla sostenibilità e all’impatto ambientale dei loro prodotti”'].value_counts())/df.groupby('35.     Quanti anni hai?')['25.     Indica quanto sei d’accordo con la seguente affermazione “I negozi sostenibili sono trasparenti riguardo alla sostenibilità e all’impatto ambientale dei loro prodotti”'].count()\n",
        "print(age_imp_tra)\n",
        "\n",
        "fig, ax = plt.subplots()\n",
        "age_imp_tra.unstack().plot.bar(stacked = True, ax = ax)\n",
        "ax.legend(title = 'Actual Transparency', bbox_to_anchor=(1.05, 1), loc='upper left', fontsize = 'small', fancybox = True)\n",
        "ax.set_title('Age/Actual Transparency')\n",
        "ax.set_xlabel('Age')\n",
        "ax.set_ylabel('Frequency')"
      ],
      "metadata": {
        "id": "PzDIbjkCuZiO"
      },
      "execution_count": null,
      "outputs": []
    },
    {
      "cell_type": "markdown",
      "source": [
        "26. Info"
      ],
      "metadata": {
        "id": "YKr9YGSxuzaL"
      }
    },
    {
      "cell_type": "code",
      "source": [
        "age_info = (df.groupby('35.     Quanti anni hai?')['26.     Che informazioni ritieni debbano essere date in aggiunta a quelle già fornite?'].value_counts())/df.groupby('35.     Quanti anni hai?')['26.     Che informazioni ritieni debbano essere date in aggiunta a quelle già fornite?'].count()\n",
        "print(age_info)\n",
        "\n",
        "fig, ax = plt.subplots()\n",
        "age_info.unstack().plot.bar(stacked = True, ax = ax)\n",
        "ax.legend(title = 'Information', bbox_to_anchor=(1.05, 1), loc='upper left', fontsize = 'small', fancybox = True)\n",
        "ax.set_title('Age/Information')\n",
        "ax.set_xlabel('Age')\n",
        "ax.set_ylabel('Frequency')"
      ],
      "metadata": {
        "id": "lNBtE7Wcu3Ol"
      },
      "execution_count": null,
      "outputs": []
    },
    {
      "cell_type": "markdown",
      "source": [
        "28. Position"
      ],
      "metadata": {
        "id": "FsA1IZAwvL_k"
      }
    },
    {
      "cell_type": "code",
      "source": [
        "age_pos = (df.groupby('35.     Quanti anni hai?')['28.     Quanto influisce la posizione del negozio nelle tue decisioni di acquisto?'].value_counts())/df.groupby('35.     Quanti anni hai?')['28.     Quanto influisce la posizione del negozio nelle tue decisioni di acquisto?'].count()\n",
        "print(age_pos)\n",
        "\n",
        "fig, ax = plt.subplots()\n",
        "age_pos.unstack().plot.bar(stacked = True, ax = ax)\n",
        "ax.legend(title = 'Motivation', bbox_to_anchor=(1.05, 1), loc='upper left', fontsize = 'small', fancybox = True)\n",
        "ax.set_title('Age/Motivation')\n",
        "ax.set_xlabel('Age')\n",
        "ax.set_ylabel('Frequency')"
      ],
      "metadata": {
        "id": "NJUl_03IvOIU"
      },
      "execution_count": null,
      "outputs": []
    },
    {
      "cell_type": "markdown",
      "source": [
        "29. More info"
      ],
      "metadata": {
        "id": "N2LTE5wtvZmh"
      }
    },
    {
      "cell_type": "code",
      "source": [
        "age_more_info = (df.groupby('35.     Quanti anni hai?')['29.     Vorresti avere più informazioni riguardo alle iniziative sostenibili e ai negozi sostenibili nella tua zona?'].value_counts())/df.groupby('35.     Quanti anni hai?')['29.     Vorresti avere più informazioni riguardo alle iniziative sostenibili e ai negozi sostenibili nella tua zona?'].count()\n",
        "print(age_more_info)\n",
        "\n",
        "fig, ax = plt.subplots()\n",
        "age_more_info.unstack().plot.bar(stacked = True, ax = ax)\n",
        "ax.legend(title = 'Additional Information', bbox_to_anchor=(1.05, 1), loc='upper left', fontsize = 'small', fancybox = True)\n",
        "ax.set_title('Age/Additional Information')\n",
        "ax.set_xlabel('Age')\n",
        "ax.set_ylabel('Frequency')"
      ],
      "metadata": {
        "id": "4wz91KvivbtQ"
      },
      "execution_count": null,
      "outputs": []
    },
    {
      "cell_type": "markdown",
      "source": [
        "30. Where"
      ],
      "metadata": {
        "id": "24KgBDbMwoK-"
      }
    },
    {
      "cell_type": "code",
      "source": [
        "age_where = (df.groupby('35.     Quanti anni hai?')['30.     Come vorresti ricevere queste informazioni?'].value_counts())/df.groupby('35.     Quanti anni hai?')['30.     Come vorresti ricevere queste informazioni?'].count()\n",
        "print(age_where)\n",
        "\n",
        "fig, ax = plt.subplots()\n",
        "age_where.unstack().plot.bar(stacked = True, ax = ax)\n",
        "ax.legend(title = 'Where', bbox_to_anchor=(1.05, 1), loc='upper left', fontsize = 'small', fancybox = True)\n",
        "ax.set_title('Age/Where')\n",
        "ax.set_xlabel('Age')\n",
        "ax.set_ylabel('Frequency')"
      ],
      "metadata": {
        "id": "I_3TEtHNwpq6"
      },
      "execution_count": null,
      "outputs": []
    },
    {
      "cell_type": "markdown",
      "source": [
        "31. Is it worth it"
      ],
      "metadata": {
        "id": "1TaTtEw1wujU"
      }
    },
    {
      "cell_type": "code",
      "source": [
        "age_worth = (df.groupby('35.     Quanti anni hai?')['31.     Pensi che valga la pena di acquistare prodotti alimentari sostenibili?'].value_counts())/df.groupby('35.     Quanti anni hai?')['31.     Pensi che valga la pena di acquistare prodotti alimentari sostenibili?'].count()\n",
        "print(age_worth)\n",
        "\n",
        "fig, ax = plt.subplots()\n",
        "age_worth.unstack().plot.bar(stacked = True, ax = ax)\n",
        "ax.legend(title = 'Is it worth it', bbox_to_anchor=(1.05, 1), loc='upper left', fontsize = 'small', fancybox = True)\n",
        "ax.set_title('Age/is it worth it')\n",
        "ax.set_xlabel('Age')\n",
        "ax.set_ylabel('Frequency')"
      ],
      "metadata": {
        "id": "tNMUdkqMwsWH",
        "colab": {
          "base_uri": "https://localhost:8080/",
          "height": 470
        },
        "outputId": "40013490-6146-4e0b-bfdd-564e11018c11"
      },
      "execution_count": null,
      "outputs": [
        {
          "output_type": "stream",
          "name": "stdout",
          "text": [
            "35.     Quanti anni hai?  31.     Pensi che valga la pena di acquistare prodotti alimentari sostenibili?\n",
            "18-30                     Sì                                                                                0.957143\n",
            "                          No                                                                                0.042857\n",
            "31-43                     Sì                                                                                1.000000\n",
            "44-56                     Sì                                                                                1.000000\n",
            "57-69                     Sì                                                                                0.880000\n",
            "                          No                                                                                0.120000\n",
            "Name: 31.     Pensi che valga la pena di acquistare prodotti alimentari sostenibili?, dtype: float64\n"
          ]
        },
        {
          "output_type": "execute_result",
          "data": {
            "text/plain": [
              "Text(0, 0.5, 'Frequency')"
            ]
          },
          "metadata": {},
          "execution_count": 12
        },
        {
          "output_type": "display_data",
          "data": {
            "text/plain": [
              "<Figure size 432x288 with 1 Axes>"
            ],
            "image/png": "[encoded data removed]"
          },
          "metadata": {
            "needs_background": "light"
          }
        }
      ]
    },
    {
      "cell_type": "markdown",
      "source": [
        "32. Yes"
      ],
      "metadata": {
        "id": "ArgnXpRUxbi3"
      }
    },
    {
      "cell_type": "code",
      "source": [
        "age_yes = (df.groupby('35.     Quanti anni hai?')['32.     [Se hai risposto sì alla 31.] Perché sì?'].value_counts())/df.groupby('35.     Quanti anni hai?')['32.     [Se hai risposto sì alla 31.] Perché sì?'].count()\n",
        "print(age_yes)\n",
        "\n",
        "fig, ax = plt.subplots()\n",
        "age_yes.unstack().plot.bar(stacked = True, ax = ax)\n",
        "ax.legend(title = 'Why Yes', bbox_to_anchor=(1.05, 1), loc='upper left', fontsize = 'small', fancybox = True)\n",
        "ax.set_title('Age/Why Yes')\n",
        "ax.set_xlabel('Age')\n",
        "ax.set_ylabel('Frequency')"
      ],
      "metadata": {
        "id": "aqeOKSBjxhaQ",
        "colab": {
          "base_uri": "https://localhost:8080/",
          "height": 644
        },
        "outputId": "79c443c6-bf08-4507-8490-ce3341ab0c84"
      },
      "execution_count": null,
      "outputs": [
        {
          "output_type": "stream",
          "name": "stdout",
          "text": [
            "35.     Quanti anni hai?  32.     [Se hai risposto sì alla 31.] Perché sì?               \n",
            "18-30                     Perché hanno un basso impatto ambientale                           0.417910\n",
            "                          Tutte le precedenti                                                0.358209\n",
            "                          Perché sono più naturali delle loro controparti non sostenibili    0.149254\n",
            "                          Perché sono di una qualità più alta                                0.074627\n",
            "31-43                     Perché hanno un basso impatto ambientale                           0.521739\n",
            "                          Tutte le precedenti                                                0.347826\n",
            "                          Perché sono più naturali delle loro controparti non sostenibili    0.086957\n",
            "                          Perché sono di una qualità più alta                                0.043478\n",
            "44-56                     Tutte le precedenti                                                0.529412\n",
            "                          Perché hanno un basso impatto ambientale                           0.235294\n",
            "                          Perché sono più naturali delle loro controparti non sostenibili    0.176471\n",
            "                          Perché sono di una qualità più alta                                0.058824\n",
            "57-69                     Tutte le precedenti                                                0.636364\n",
            "                          Perché hanno un basso impatto ambientale                           0.227273\n",
            "                          Perché sono più naturali delle loro controparti non sostenibili    0.090909\n",
            "                          Perché sono di una qualità più alta                                0.045455\n",
            "Name: 32.     [Se hai risposto sì alla 31.] Perché sì?, dtype: float64\n"
          ]
        },
        {
          "output_type": "execute_result",
          "data": {
            "text/plain": [
              "Text(0, 0.5, 'Frequency')"
            ]
          },
          "metadata": {},
          "execution_count": 13
        },
        {
          "output_type": "display_data",
          "data": {
            "text/plain": [
              "<Figure size 432x288 with 1 Axes>"
            ],
            "image/png": "[encoded data removed]"
          },
          "metadata": {
            "needs_background": "light"
          }
        }
      ]
    },
    {
      "cell_type": "markdown",
      "source": [
        "33. No"
      ],
      "metadata": {
        "id": "u7e2VMKoxhtO"
      }
    },
    {
      "cell_type": "code",
      "source": [
        "age_no = (df.groupby('35.     Quanti anni hai?')['33.     [Se hai risposto no alla 31.] Perché no?'].value_counts())/df.groupby('35.     Quanti anni hai?')['33.     [Se hai risposto no alla 31.] Perché no?'].count()\n",
        "print(age_no)\n",
        "\n",
        "fig, ax = plt.subplots()\n",
        "age_no.unstack().plot.bar(stacked = True, ax = ax)\n",
        "ax.legend(title = 'Where', bbox_to_anchor=(1.05, 1), loc='upper left', fontsize = 'small', fancybox = True)\n",
        "ax.set_title('Age/Where')\n",
        "ax.set_xlabel('Age')\n",
        "ax.set_ylabel('Frequency')"
      ],
      "metadata": {
        "colab": {
          "base_uri": "https://localhost:8080/",
          "height": 435
        },
        "id": "kCyEQZGLxjNq",
        "outputId": "e5e6a339-dca8-4b22-a190-ffc88d8c7df6"
      },
      "execution_count": null,
      "outputs": [
        {
          "output_type": "stream",
          "name": "stdout",
          "text": [
            "35.     Quanti anni hai?  33.     [Se hai risposto no alla 31.] Perché no?                       \n",
            "18-30                     Perché le qualità non giustificano un incremento del prezzo così grande    0.6\n",
            "                          Perché preferisco spendere i soldi in altri modi                           0.2\n",
            "                          Tutte le precedenti                                                        0.2\n",
            "57-69                     Perché le qualità non giustificano un incremento del prezzo così grande    1.0\n",
            "Name: 33.     [Se hai risposto no alla 31.] Perché no?, dtype: float64\n"
          ]
        },
        {
          "output_type": "execute_result",
          "data": {
            "text/plain": [
              "Text(0, 0.5, 'Frequency')"
            ]
          },
          "metadata": {},
          "execution_count": 14
        },
        {
          "output_type": "display_data",
          "data": {
            "text/plain": [
              "<Figure size 432x288 with 1 Axes>"
            ],
            "image/png": "[encoded data removed]"
          },
          "metadata": {
            "needs_background": "light"
          }
        }
      ]
    },
    {
      "cell_type": "markdown",
      "source": [
        "# Occupation"
      ],
      "metadata": {
        "id": "5kH4Y8hrU7pO"
      }
    },
    {
      "cell_type": "markdown",
      "source": [
        "Knowledge"
      ],
      "metadata": {
        "id": "d1F40D6Mk_j_"
      }
    },
    {
      "cell_type": "code",
      "source": [
        "occ = (df.groupby('36.     Qual è la tua occupazione?')['1.     Sei a conoscenza dell’esistenza dei Sustainable Developement Goals (obbiettivi di sviluppo sostenibile) delle Nazioni Unite?'].value_counts())/df.groupby('36.     Qual è la tua occupazione?')['1.     Sei a conoscenza dell’esistenza dei Sustainable Developement Goals (obbiettivi di sviluppo sostenibile) delle Nazioni Unite?'].count()\n",
        "print(occ)"
      ],
      "metadata": {
        "id": "QFIVnzVyqz1b"
      },
      "execution_count": null,
      "outputs": []
    },
    {
      "cell_type": "markdown",
      "source": [
        "Circular Economy"
      ],
      "metadata": {
        "id": "Nfjl0kqOlB2u"
      }
    },
    {
      "cell_type": "code",
      "source": [
        "occ_ce = (df.groupby('36.     Qual è la tua occupazione?')['4.     Indica quanto sei d’accordo con la seguente affermazione: “Realtà sostenibili ed incentrate sull’economia circolare sono essenziali per il raggiungimento di una realtà sostenibile”'].value_counts())/df.groupby('36.     Qual è la tua occupazione?')['4.     Indica quanto sei d’accordo con la seguente affermazione: “Realtà sostenibili ed incentrate sull’economia circolare sono essenziali per il raggiungimento di una realtà sostenibile”'].count()\n",
        "print(occ_ce)"
      ],
      "metadata": {
        "id": "iTN8iWUwlEo3"
      },
      "execution_count": null,
      "outputs": []
    },
    {
      "cell_type": "markdown",
      "source": [
        "Involvement"
      ],
      "metadata": {
        "id": "tFHGnRpOlRhU"
      }
    },
    {
      "cell_type": "code",
      "source": [
        "occ_sus = (df.groupby('36.     Qual è la tua occupazione?')['5.     Vorresti essere più coinvolto nelle decisioni statali riguardanti normative sulla sostenibilità?'].value_counts())/df.groupby('36.     Qual è la tua occupazione?')['5.     Vorresti essere più coinvolto nelle decisioni statali riguardanti normative sulla sostenibilità?'].count()\n",
        "print(occ_sus)"
      ],
      "metadata": {
        "id": "GNaj-J15lSFz"
      },
      "execution_count": null,
      "outputs": []
    },
    {
      "cell_type": "markdown",
      "source": [
        "Natural Resources"
      ],
      "metadata": {
        "id": "MQE0nc9Clnw4"
      }
    },
    {
      "cell_type": "code",
      "source": [
        "occ_res = (df.groupby('36.     Qual è la tua occupazione?')['8.     Pensi sia possibile essere in grado di gestire e sfruttare le risorse naturali entro il 2030 (riduzione dell\\'utilizzo delle risorse non sostenibili ed aumento di quelle sostenibili)?'].value_counts())/df.groupby('36.     Qual è la tua occupazione?')['8.     Pensi sia possibile essere in grado di gestire e sfruttare le risorse naturali entro il 2030 (riduzione dell\\'utilizzo delle risorse non sostenibili ed aumento di quelle sostenibili)?'].count()\n",
        "print(occ_res)"
      ],
      "metadata": {
        "id": "Rk51A29SloP_"
      },
      "execution_count": null,
      "outputs": []
    },
    {
      "cell_type": "markdown",
      "source": [
        "Wastes"
      ],
      "metadata": {
        "id": "8UXnpIfpl5ih"
      }
    },
    {
      "cell_type": "code",
      "source": [
        "occ_waste = (df.groupby('36.     Qual è la tua occupazione?')['10.     Pensi sia possibile ridurre in maniera sostanziale la produzione di rifiuti entro il 2030?'].value_counts())/df.groupby('36.     Qual è la tua occupazione?')['10.     Pensi sia possibile ridurre in maniera sostanziale la produzione di rifiuti entro il 2030?'].count()\n",
        "print(occ_waste)"
      ],
      "metadata": {
        "id": "jlZc6mqdl7t7"
      },
      "execution_count": null,
      "outputs": []
    },
    {
      "cell_type": "markdown",
      "source": [
        "Small Companies"
      ],
      "metadata": {
        "id": "oa66R5OWl9ap"
      }
    },
    {
      "cell_type": "code",
      "source": [
        "occ_com = (df.groupby('36.     Qual è la tua occupazione?')['13.     Indica quanto sei d’accordo con la seguente affermazione: “è importante valorizzare e sostenere le piccole imprese di produzione alimentare (agricola e non)”'].value_counts())/df.groupby('36.     Qual è la tua occupazione?')['13.     Indica quanto sei d’accordo con la seguente affermazione: “è importante valorizzare e sostenere le piccole imprese di produzione alimentare (agricola e non)”'].count()\n",
        "print(occ_com)"
      ],
      "metadata": {
        "id": "RjHedSyBl_pD"
      },
      "execution_count": null,
      "outputs": []
    },
    {
      "cell_type": "markdown",
      "source": [
        "Agricultural Technologies"
      ],
      "metadata": {
        "id": "W5_lg6apmAET"
      }
    },
    {
      "cell_type": "code",
      "source": [
        "occ_agri = (df.groupby('36.     Qual è la tua occupazione?')['14.     Quanto è importante per te l’implementazione di tecniche agricole che incrementino: la produzione per ettaro, la resilienza dell’ecosistema a disastri ecologici e la qualità dei terreni?'].value_counts())/df.groupby('36.     Qual è la tua occupazione?')['14.     Quanto è importante per te l’implementazione di tecniche agricole che incrementino: la produzione per ettaro, la resilienza dell’ecosistema a disastri ecologici e la qualità dei terreni?'].count()\n",
        "print(occ_agri)"
      ],
      "metadata": {
        "id": "yavTmCPKmM6B"
      },
      "execution_count": null,
      "outputs": []
    }
  ]
}